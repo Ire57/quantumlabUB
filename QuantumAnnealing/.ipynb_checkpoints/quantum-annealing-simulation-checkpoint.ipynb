{
 "cells": [
  {
   "cell_type": "markdown",
   "metadata": {},
   "source": [
    "# SIMULACIÓ DE QUANTUM ANNEALING\n",
    "Robert Vila Alsina,\n",
    "\n",
    "Primavera 2023\n",
    "\n",
    "Pràctiques d'empresa, tutors: Bruno Julià i Carles Calero\n",
    "\n",
    "## Quantum Annealing\n",
    "\n",
    "Aquesta forma de computació quàntica utilitza el Teorema Adiabàtic per a evolucionar el Hamiltonià d'un conjunt de qubits en el temps fins a trobar l'estat de mínima energia. Al principi, s'aplica un camp molt fort en la direcció transversal x que força els spins cap a una direcció. El camp transversal es va reduint de forma adiabàtica i al final obtenim el ground state. \n",
    "\n",
    "L'Hamiltonià del sistema es pot expressar:\n",
    "\n",
    "$$ \\mathcal{H}(t)=\\mathcal{H}_0-\\Gamma(t) \\sum_i \\sigma_i^x $$\n",
    "on:\n",
    "$$ \\mathcal{H}_0=-\\sum_{i,j} J_{i j} \\sigma_i^z \\sigma_j^z-\\alpha \\sum_i \\sigma_i^z$$\n",
    "\n",
    "La idea és començar amb una $\\Gamma (t)$ molt gran i anar-la reduïnt poc a poc, de manera adabàtica. Això correspon al camp transversal x que apliquem als qubits. Després de l'evolució, l'únic terme que quedarà serà el $\\mathcal{H}_0$, que ens permetrà trobar quina és l'energia associada al groundstate.\n",
    "\n",
    "La importància d'aquesta tècnica de computació quàntica és que es pot fer servir com a eina per a resoldre problemes d'optimització de combinatòria. Això es pot fer expressant el problema com un Hamiltonià d'un model d'Ising i trobant un anàleg en el conjunt de qubits i les seves connexions. "
   ]
  },
  {
   "cell_type": "code",
   "execution_count": 1,
   "metadata": {},
   "outputs": [],
   "source": [
    "import matplotlib.pyplot as plt\n",
    "import numpy as np\n"
   ]
  },
  {
   "cell_type": "markdown",
   "metadata": {},
   "source": [
    "### Nombre d'spins\n",
    "Elegim el nombre d'spins del sistema N que volem simular"
   ]
  },
  {
   "cell_type": "code",
   "execution_count": 12,
   "metadata": {},
   "outputs": [],
   "source": [
    "N = 4"
   ]
  },
  {
   "cell_type": "markdown",
   "metadata": {},
   "source": [
    "### Possibles estats\n",
    "El nombre d'estats del sistema creix com $2^N$ on N és el nombre de bits del sistema. Això fa que per un nombre mitjanament gran de spins no sigui possible computar tots els estats per a trobar el de mínima energia.\n"
   ]
  },
  {
   "cell_type": "code",
   "execution_count": 13,
   "metadata": {},
   "outputs": [
    {
     "name": "stdout",
     "output_type": "stream",
     "text": [
      "[[-1. -1. -1. -1.]\n",
      " [-1. -1. -1.  1.]\n",
      " [-1. -1.  1. -1.]\n",
      " [-1. -1.  1.  1.]\n",
      " [-1.  1. -1. -1.]\n",
      " [-1.  1. -1.  1.]\n",
      " [-1.  1.  1. -1.]\n",
      " [-1.  1.  1.  1.]\n",
      " [ 1. -1. -1. -1.]\n",
      " [ 1. -1. -1.  1.]\n",
      " [ 1. -1.  1. -1.]\n",
      " [ 1. -1.  1.  1.]\n",
      " [ 1.  1. -1. -1.]\n",
      " [ 1.  1. -1.  1.]\n",
      " [ 1.  1.  1. -1.]\n",
      " [ 1.  1.  1.  1.]]\n",
      "Tindrem un total de: 16 estats\n"
     ]
    },
    {
     "data": {
      "image/png": "[encoded data removed]",
      "text/plain": [
       "<Figure size 640x480 with 1 Axes>"
      ]
     },
     "metadata": {},
     "output_type": "display_data"
    }
   ],
   "source": [
    "#Fem una matriu amb tots els possibles estats dels spins (2^N)\n",
    "#En una matriu de N columnes i 2^N files\n",
    "\n",
    "def matriu_estats(N):\n",
    "    matriu = np.zeros((2**N,N))\n",
    "    for i in range(2**N):\n",
    "        for j in range(N):\n",
    "            matriu[i,j] = (i // 2**(N-j-1)) % 2\n",
    "    matriu[matriu == 0] = -1\n",
    "    return matriu\n",
    "\n",
    "estats_spins = matriu_estats(N)\n",
    "print(estats_spins)\n",
    "\n",
    "print(\"Tindrem un total de:\", len(estats_spins), \"estats\")\n",
    "\n",
    "#Grafiquem el nombre d'estats en funció del nombre de spins\n",
    "x = np.arange(1,10)\n",
    "y = 2**x\n",
    "plt.plot(x,y, \"o\")\n",
    "plt.xlabel(\"Nombre de spins\")\n",
    "plt.ylabel(\"Nombre d'estats\")\n",
    "plt.show()"
   ]
  },
  {
   "cell_type": "markdown",
   "metadata": {},
   "source": [
    "### Termes d'interacció entre els spins\n",
    "Per altra banda, la matriu $J_{ij}$ és el patró de interaccions entre els spins. Així, $J_{13}$ mesurarà les interaccions de l'spin 1 amb el 3. Una possible aproximació podria ser considerar que cada spin només interactua amb els dels seu voltant, els primers veïns, de forma que només quedarien diferents de zero la diagonal per sobre de la diagonal principal i la seva simètrica.\n",
    "\n",
    "En el nostre cas, com que només ens interessa veure com se simula el procés, aleatoritzarem els valors de la matriu. Això ho farem agafant valors d'una distribució Gaussiana de mitjana 0 i desviació estàndard 1."
   ]
  },
  {
   "cell_type": "code",
   "execution_count": 14,
   "metadata": {},
   "outputs": [
    {
     "data": {
      "text/plain": [
       "array([[ 0.        , -0.3193016 ,  1.20008899, -0.25732735],\n",
       "       [-0.4016632 ,  0.        , -1.08759485, -0.15699104],\n",
       "       [-0.26620808, -0.75381611,  0.        , -2.69801809],\n",
       "       [ 0.99388759, -0.26642527,  0.92415039,  0.        ]])"
      ]
     },
     "execution_count": 14,
     "metadata": {},
     "output_type": "execute_result"
    }
   ],
   "source": [
    "#Declarem la matriu J d'interacció entre diferents spins\n",
    "matrix_J = np.random.normal(loc=0, scale=1, size=(N, N))\n",
    "matrix_J[np.diag_indices(N)] = 0\n",
    "\n",
    "\n",
    "matrix_J"
   ]
  },
  {
   "cell_type": "markdown",
   "metadata": {},
   "source": [
    "### Terme d'interacció amb si mateix\n",
    "\n",
    "També existeix un terme energètic associat al propi spin, $\\alpha$. Per exemple, podem posar $\\alpha = 1$"
   ]
  },
  {
   "cell_type": "code",
   "execution_count": 15,
   "metadata": {},
   "outputs": [
    {
     "data": {
      "text/plain": [
       "1"
      ]
     },
     "execution_count": 15,
     "metadata": {},
     "output_type": "execute_result"
    }
   ],
   "source": [
    "#Declarem el terme d'interacció amb si mateix, alpha\n",
    "alpha = 1\n",
    "alpha"
   ]
  },
  {
   "cell_type": "markdown",
   "metadata": {},
   "source": [
    "### Hamiltonià inicial del sistema\n",
    "\n",
    "Amb el nombre d'spins amb el que treballem, podem trobar quin és el ground state abans de simular l'evolució temporal del sistema. Això ho podem fer amb els valors propis. \n",
    "\n",
    "El Hamiltonià final del sistema:\n",
    "\n",
    "$$ \\mathcal{H}_0=-\\sum_{i,j} J_{i j} \\sigma_i^z \\sigma_j^z-\\alpha \\sum_i \\sigma_i^z$$\n",
    "\n",
    "On $\\sigma_i^z$ és la matriu de Pauli en la direcció z que actua en l'spin i. És important notar que els termes del sumatori tenen productes tensorials per una identitat 2x2 implícits en totes les posicions que no estem aplicant la matriu de Pauli. Per exemple, el terme d'interacció entre els spins 2 i 3 d'un sistema de 5 bits serà:\n",
    "\n",
    "$$J_{23}( I \\otimes \\sigma^z \\otimes \\sigma^z \\otimes I \\otimes I )$$\n",
    "\n",
    "Matrius\\\\\n",
    "\n",
    "$I =$ \\begin{pmatrix}\n",
    "1 & 0\\\\\n",
    "0 & 1\n",
    "\\end{pmatrix}\\hspace{2cm}\n",
    "\n",
    "$$\\sigma^z =$$ \\begin{pmatrix}\n",
    "0 & 1\\\\\n",
    "1 & 0\n",
    "\\end{pmatrix}\\hspace{2cm}\n",
    "\n",
    "$$\\sigma^x =$$ \\begin{pmatrix}\n",
    "1 & 0 \\\\\n",
    "0 & -1\n",
    "\\end{pmatrix}\n"
   ]
  },
  {
   "cell_type": "code",
   "execution_count": 16,
   "metadata": {},
   "outputs": [
    {
     "name": "stdout",
     "output_type": "stream",
     "text": [
      "Energies del ground state:  [-5.40533985 -5.40533985 -4.90552902 -3.85190397 -1.80863104 -0.90552902\n",
      " -0.68085606 -0.62929954 -0.62929954  0.14809603  2.19136896  2.56606402\n",
      "  2.71549544  2.71549544  6.56606402  7.31914394]\n",
      "Vectors propis del ground state:  [[0. 0. 0. 0. 0. 0. 1. 0. 0. 0. 0. 0. 0. 0. 0. 0.]\n",
      " [0. 0. 1. 0. 0. 0. 0. 0. 0. 0. 0. 0. 0. 0. 0. 0.]\n",
      " [0. 0. 0. 1. 0. 0. 0. 0. 0. 0. 0. 0. 0. 0. 0. 0.]\n",
      " [0. 0. 0. 0. 0. 0. 0. 0. 0. 0. 0. 0. 0. 1. 0. 0.]\n",
      " [0. 0. 0. 0. 1. 0. 0. 0. 0. 0. 0. 0. 0. 0. 0. 0.]\n",
      " [1. 0. 0. 0. 0. 0. 0. 0. 0. 0. 0. 0. 0. 0. 0. 0.]\n",
      " [0. 0. 0. 0. 0. 0. 0. 0. 1. 0. 0. 0. 0. 0. 0. 0.]\n",
      " [0. 0. 0. 0. 0. 0. 0. 0. 0. 0. 0. 0. 0. 0. 1. 0.]\n",
      " [0. 0. 0. 0. 0. 0. 0. 0. 0. 0. 0. 1. 0. 0. 0. 0.]\n",
      " [0. 0. 0. 0. 0. 0. 0. 1. 0. 0. 0. 0. 0. 0. 0. 0.]\n",
      " [0. 1. 0. 0. 0. 0. 0. 0. 0. 0. 0. 0. 0. 0. 0. 0.]\n",
      " [0. 0. 0. 0. 0. 0. 0. 0. 0. 0. 1. 0. 0. 0. 0. 0.]\n",
      " [0. 0. 0. 0. 0. 0. 0. 0. 0. 0. 0. 0. 1. 0. 0. 0.]\n",
      " [0. 0. 0. 0. 0. 0. 0. 0. 0. 1. 0. 0. 0. 0. 0. 0.]\n",
      " [0. 0. 0. 0. 0. 1. 0. 0. 0. 0. 0. 0. 0. 0. 0. 0.]\n",
      " [0. 0. 0. 0. 0. 0. 0. 0. 0. 0. 0. 0. 0. 0. 0. 1.]]\n"
     ]
    },
    {
     "data": {
      "image/png": "[encoded data removed]",
      "text/plain": [
       "<Figure size 640x480 with 1 Axes>"
      ]
     },
     "metadata": {},
     "output_type": "display_data"
    },
    {
     "name": "stdout",
     "output_type": "stream",
     "text": [
      "Energia mínima:  -5.405339847522477 Corresponent a l'estat:  6 que és:  [-1.  1. -1.  1.]\n",
      "[0. 0. 0. 0. 0. 1. 0. 0. 0. 0. 0. 0. 0. 0. 0. 0.]\n"
     ]
    }
   ],
   "source": [
    "#Declarem les matrius de Pauli i la identitat\n",
    "sigma_x = np.array([[0,1],[1,0]])\n",
    "sigma_z = np.array([[1,0],[0,-1]])\n",
    "identitat = np.identity(2)\n",
    "\n",
    "#Calculem les energies del ground state, H0\n",
    "\n",
    "#Operador Hamiltonià H0\n",
    "def Ham0():\n",
    "    H = np.zeros((2**N, 2**N))\n",
    "\n",
    "    #Afegim el terme alpha\n",
    "    for i in range(N):\n",
    "        malpha = np.identity(1)\n",
    "        for j in range(N):\n",
    "            if j == i:\n",
    "                malpha = np.kron(malpha, sigma_z)\n",
    "            else:\n",
    "                malpha = np.kron(malpha, identitat)\n",
    "        H -= alpha*malpha\n",
    "\n",
    "    #Afegim el terme J\n",
    "    for i in range(N-1):\n",
    "        for j in range(i,N):\n",
    "            mJ = np.identity(1)\n",
    "            for k in range(N):\n",
    "                if k == i:\n",
    "                    mJ = np.kron(mJ, sigma_z)\n",
    "                elif k == j:\n",
    "                    mJ = np.kron(mJ, sigma_z)\n",
    "                else:\n",
    "                    mJ = np.kron(mJ, identitat)\n",
    "            H -= matrix_J[i,j]*mJ\n",
    "    return H\n",
    "\n",
    "H0 = Ham0()\n",
    "\n",
    "#Calculem les energies del ground state, H0\n",
    "vals_H0, vecs_H0 = np.linalg.eigh(H0)\n",
    "\n",
    "print (\"Energies del ground state: \", vals_H0)\n",
    "print (\"Vectors propis del ground state: \", vecs_H0)\n",
    "#Trobem un anàleg de l'ordre de les energies amb els estats corresponents\n",
    "ordre = []\n",
    "for i in range(2**N):\n",
    "    num = np.where(vecs_H0[:,i] == 1)[0][0]\n",
    "    ordre.append(num)\n",
    "\n",
    "\n",
    "#Grafiquem l'energia H0 per tots els estats possibles\n",
    "#En un eix el nombre d'estat i en l'altre l'energia\n",
    "ordremes1 = [i+1 for i in ordre]\n",
    "plt.plot(ordremes1, vals_H0, \"o\")\n",
    "plt.xlabel('Estats')\n",
    "plt.ylabel('Energia')\n",
    "plt.show()\n",
    "\n",
    "print(\"Energia mínima: \", vals_H0[0], \"Corresponent a l'estat: \", ordremes1[0], \"que és: \", estats_spins[ordre[0]])\n",
    "\n",
    "E_min = vals_H0[0]\n",
    "\n",
    "#Guardem el vector propi corresponent a l'estat amb energia mínima\n",
    "vec_minH0 = vecs_H0[:,0]\n",
    "print (vec_minH0)\n"
   ]
  },
  {
   "cell_type": "markdown",
   "metadata": {},
   "source": [
    "### Operador Hamiltonià temporal\n",
    "\n",
    "Com s'ha anunciat al principi, l'operador hamiltonià de la nostra simulació també tindrà un terme que evolucionarà amb el temps. Serà de la forma:\n",
    "\n",
    "$$ \\mathcal{H}(t)=\\mathcal{H}_0-\\Gamma(t) \\sum_i \\sigma_i^x $$\n",
    "on:\n",
    "$$ \\mathcal{H}_0=-\\sum_{i,j} J_{i j} \\sigma_i^z \\sigma_j^z-\\alpha \\sum_i \\sigma_i^z$$\n",
    "\n",
    "És molt importnant escollir una funció $\\Gamma (t)$ que avanci de forma prou lenta com perquè el sistema no salti entre el ground state i els primers excitats. El sistema ha d'evolucionar de forma adiabàtica. Per exemple, nosaltres farem servir:\n",
    "\n",
    "$$ \\Gamma (t) = \\frac{10}{1+t}$$\n"
   ]
  },
  {
   "cell_type": "code",
   "execution_count": 17,
   "metadata": {},
   "outputs": [
    {
     "name": "stdout",
     "output_type": "stream",
     "text": [
      "Energies: [-40.42464901 -23.45291743 -20.42896501 -19.87195405 -17.15830553\n",
      "  -3.74698647  -2.44814322  -0.67837605   0.74602464   2.97194785\n",
      "   3.09519207  17.01592045  20.00329392  20.67775444  23.21509716\n",
      "  40.48506622]\n",
      "Estat inicial: [0.27275773 0.29253683 0.28354981 0.2324764  0.26817304 0.28510556\n",
      " 0.2500692  0.20351929 0.23978301 0.24872537 0.28171614 0.22330064\n",
      " 0.22764501 0.23419082 0.23991699 0.1887005 ]\n"
     ]
    }
   ],
   "source": [
    "\n",
    "\n",
    "#Operador Hamiltonià\n",
    "def H(t):\n",
    "    H = np.zeros((2**N, 2**N))\n",
    "\n",
    "    #Afegim el terme alpha\n",
    "    for i in range(N):\n",
    "        malpha = np.identity(1)\n",
    "        for j in range(N):\n",
    "            if j == i:\n",
    "                malpha = np.kron(malpha, sigma_z)\n",
    "            else:\n",
    "                malpha = np.kron(malpha, identitat)\n",
    "        H -= alpha*malpha\n",
    "\n",
    "    #Afegim el terme J\n",
    "    for i in range(N-1):\n",
    "        for j in range(i,N):\n",
    "            mJ = np.identity(1)\n",
    "            for k in range(N):\n",
    "                if k == i:\n",
    "                    mJ = np.kron(mJ, sigma_z)\n",
    "                elif k == j:\n",
    "                    mJ = np.kron(mJ, sigma_z)\n",
    "                else:\n",
    "                    mJ = np.kron(mJ, identitat)\n",
    "            H -= matrix_J[i,j]*mJ\n",
    "\n",
    "    #Afegim el terme gamma\n",
    "    gamma = 10./(t+1.)\n",
    "    for i in range(N):\n",
    "        mgamma = np.identity(1)\n",
    "        for j in range(N):\n",
    "            if j == i:\n",
    "                mgamma = np.kron(mgamma, sigma_x)\n",
    "            else:\n",
    "                mgamma = np.kron(mgamma, identitat)\n",
    "        H -= gamma*mgamma\n",
    "\n",
    "    return H\n",
    "\n",
    "H0 = H(0)\n",
    "\n",
    "#Diagonalitzem H0 per obtenir els valors propis i els vectors propis\n",
    "valors_propis, vectors_propis = np.linalg.eigh(H0)\n",
    "\n",
    "print(\"Energies:\", valors_propis)\n",
    "\n",
    "\n",
    "#Guardem l'estat propi del ground state al temps inicial\n",
    "ground_state = vectors_propis[:,0]\n",
    "\n",
    "print(\"Estat inicial:\", ground_state)\n"
   ]
  },
  {
   "cell_type": "markdown",
   "metadata": {},
   "source": [
    "### Evolució temporal\n",
    "\n",
    "Per a veure com avança el Hamiltonià amb el temps, haurem de simular l'Equació d'Schrödinger depenent del temps (ESDT). Això ho farem mitjançant el mètode de Crank-Nicolson, un mètode numèric de diferències finites per a resoldre equacions en derivades parcials.\n",
    "\n",
    "\\begin{equation}\n",
    "i \\frac{\\partial|\\phi(t)\\rangle}{\\partial t}=\\mathcal{H}(t)|\\phi(t)\\rangle\n",
    "\\end{equation}\n",
    "\n",
    " Primer de tot buscarem una aproximació de l'estat $|\\phi(t+\\Delta t / 2)\\rangle$ una com a semipas endavant des de $t$.\n",
    "\\begin{equation}\n",
    " \\frac{\\partial|\\phi(t)\\rangle}{\\partial t} \\approx 2i\\frac{\\phi \\left( t + \\Delta t/2\\right) - \\phi(t)}{\\Delta t } \n",
    " \\hspace{0.5cm} \\xrightarrow{ESDT} \\hspace{0.5cm}\n",
    " \\left|\\phi\\left(t+\\frac{\\Delta t}{2}\\right)\\right\\rangle=\\left(1-\\frac{i \\Delta t}{2} \\mathcal{H}\\right)|\\phi(t)\\rangle\n",
    "\\end{equation}\n",
    "\n",
    "Farem el mateix però com un semipas enrere des de $t + \\Delta t$.\n",
    "\n",
    "\\begin{equation}\n",
    "\\left|\\phi\\left(t+\\frac{\\Delta t}{2}\\right)\\right\\rangle=\\left(1+\\frac{i \\Delta t}{2} \\mathcal{H}\\right)|\\phi(t+\\Delta t)\\rangle\n",
    "\\end{equation}\n",
    "\n",
    "Igualem les dues expressions i obtenim:\n",
    "\n",
    "\\begin{equation}\n",
    "\\left(1+i \\frac{\\Delta t}{2 \\hbar} \\hat{H}\\right) \\phi(t+\\Delta t)=\\left(1-i \\frac{\\Delta t}{2 \\hbar} \\hat{H}\\right) \\phi(t)\n",
    "\\end{equation}\n",
    "\n",
    "\\begin{equation}\n",
    "|\\phi(t+\\Delta t)\\rangle=\\left(1+i \\frac{\\Delta t}{2} \\mathcal{H}\\right)^{-1}\\left(1-i \\frac{\\Delta t}{2} \\mathcal{H}\\right)|\\phi(t)\\rangle\n",
    "\\end{equation}\n",
    "\n",
    "Per tant, el problema a resoldre serà:\n",
    "\n",
    "\\begin{equation}\n",
    "\\hat{A} \\vec{\\Psi}(x, t+\\Delta t)=\\vec{b}\n",
    "\\end{equation}\n",
    "\n",
    "On tots els $\\mathcal{H} = \\mathcal{H}(t)$. Considerarem $\\Gamma_1=10 /(t+1)$. \\\\\n",
    "\n",
    "El nostre estat inicial serà l'estat de mínima energia de l'Hamiltonià depenent del temps a l'instant inicial\n"
   ]
  },
  {
   "cell_type": "code",
   "execution_count": 18,
   "metadata": {},
   "outputs": [
    {
     "data": {
      "image/png": "[encoded data removed]",
      "text/plain": [
       "<Figure size 640x480 with 1 Axes>"
      ]
     },
     "metadata": {},
     "output_type": "display_data"
    },
    {
     "name": "stdout",
     "output_type": "stream",
     "text": [
      "Energia final: -5.4292466376204285\n",
      "Valor teòric: -5.405339847522477\n"
     ]
    }
   ],
   "source": [
    "#Crank-Nicolson per a la resolució de l'equació de Schrödinger en el temps\n",
    "\n",
    "psi = ground_state\n",
    "psi = psi/np.linalg.norm(psi) #Normalitzem\n",
    "\n",
    "#Definim el temps inicial i final\n",
    "t_inicial = 0\n",
    "t_final = 100\n",
    "dt = 0.1\n",
    "\n",
    "#Definim el temps\n",
    "temps = np.arange(t_inicial, t_final, dt)\n",
    "vect_energy = []\n",
    "\n",
    "\n",
    "productes_escalars = []\n",
    "\n",
    "for t in temps:\n",
    "    #Definim les matrius de propagació\n",
    "    U_mes = np.identity(2**N) + 1j*dt/2.*H(t)\n",
    "    U_menys = np.identity(2**N) - 1j*dt/2.*H(t)\n",
    "\n",
    "    #Fem un pas de temps dt\n",
    "    psi = np.linalg.solve(U_mes, np.dot(U_menys, psi))\n",
    "\n",
    "    #Calculem l'energia\n",
    "    energia = np.real(np.dot(np.conjugate(psi), np.dot(H(t), psi)))\n",
    "    vect_energy.append(energia)\n",
    "\n",
    "    #Calculem el producte escalar entre psi i el vector propi del ground state\n",
    "    producte_escalar = np.linalg.norm((np.dot(np.conjugate(psi), vec_minH0)))**2\n",
    "    productes_escalars.append(producte_escalar)\n",
    "\n",
    "#Grafiquem l'energia en funció del temps amb l'eix x en escala logarítmica\n",
    "fig = plt.figure()\n",
    "ax = fig.add_subplot(111)\n",
    "ax.set_xscale('log')\n",
    "plt.plot(temps, vect_energy)\n",
    "plt.yticks(np.arange(-50,0,5))\n",
    "plt.xlabel('Temps')\n",
    "plt.ylabel('Energia')\n",
    "plt.grid()\n",
    "plt.ylim = (-40,0)\n",
    "plt.show()\n",
    "\n",
    "#Mostrem el valor final de l'energia\n",
    "print(\"Energia final:\", vect_energy[-1])\n",
    "print(\"Valor teòric:\", E_min)"
   ]
  },
  {
   "cell_type": "markdown",
   "metadata": {},
   "source": [
    "Veiem que l'energia avança cap al ground-state. \n",
    "\n",
    "Una altra forma de comprovar si estem realitzant un procés adiabàtic és amb el producte escalar entre el vector propi del groundstate i el nostre vector. Idelment hauria d'avançar cap a 1."
   ]
  },
  {
   "cell_type": "code",
   "execution_count": 19,
   "metadata": {},
   "outputs": [
    {
     "data": {
      "image/png": "[encoded data removed]",
      "text/plain": [
       "<Figure size 640x480 with 1 Axes>"
      ]
     },
     "metadata": {},
     "output_type": "display_data"
    }
   ],
   "source": [
    "#Grafiquem els productes escalars en funció del temps\n",
    "plt.plot(temps, productes_escalars)\n",
    "plt.xlabel('Temps')\n",
    "plt.ylabel('Producte escalar')\n",
    "plt.grid()\n",
    "plt.show()\n"
   ]
  },
  {
   "cell_type": "markdown",
   "metadata": {},
   "source": [
    "## REFERÈNCIES\n",
    "\n",
    "Quantum Annealing in the transverse Ising Model, Óscar Promio MuÑnoz"
   ]
  },
  {
   "cell_type": "code",
   "execution_count": null,
   "metadata": {},
   "outputs": [],
   "source": []
  }
 ],
 "metadata": {
  "kernelspec": {
   "display_name": "Python 3 (ipykernel)",
   "language": "python",
   "name": "python3"
  },
  "language_info": {
   "codemirror_mode": {
    "name": "ipython",
    "version": 3
   },
   "file_extension": ".py",
   "mimetype": "text/x-python",
   "name": "python",
   "nbconvert_exporter": "python",
   "pygments_lexer": "ipython3",
   "version": "3.9.13"
  }
 },
 "nbformat": 4,
 "nbformat_minor": 2
}
