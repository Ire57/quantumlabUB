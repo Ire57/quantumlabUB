{
 "cells": [
  {
   "attachments": {},
   "cell_type": "markdown",
   "metadata": {},
   "source": [
    "# SIMULACIÓ DE QUANTUM ANNEALING\n",
    "Robert Vila Alsina,\n",
    "\n",
    "Primavera 2023\n",
    "\n",
    "Pràctiques d'empresa, tutors: Bruno Julià i Carles Calero\n",
    "\n",
    "## Quantum Annealing\n",
    "\n",
    "Aquesta forma de computació quàntica utilitza el Teorema Adiabàtic per a evolucionar el Hamiltonià d'un conjunt de qubits en el temps fins a trobar l'estat de mínima energia. Al principi, s'aplica un camp molt fort en la direcció transversal x que força els spins cap a una direcció. El camp transversal es va reduint de forma adiabàtica i al final obtenim el ground state. \n",
    "\n",
    "L'Hamiltonià del sistema es pot expressar:\n",
    "\n",
    "$$ \\mathcal{H}(t)=\\mathcal{H}_0-\\Gamma(t) \\sum_i \\sigma_i^x $$\n",
    "on:\n",
    "$$ \\mathcal{H}_0=-\\sum_{i,j} J_{i j} \\sigma_i^z \\sigma_j^z-\\alpha \\sum_i \\sigma_i^z$$\n",
    "\n",
    "La idea és començar amb una $\\Gamma (t)$ molt gran i anar-la reduïnt poc a poc, de manera adabàtica. Això correspon al camp transversal x que apliquem als qubits. Després de l'evolució, l'únic terme que quedarà serà el $\\mathcal{H}_0$, que ens permetrà trobar quina és l'energia associada al groundstate.\n",
    "\n",
    "La importància d'aquesta tècnica de computació quàntica és que es pot fer servir com a eina per a resoldre problemes d'optimització de combinatòria. Això es pot fer expressant el problema com un Hamiltonià d'un model d'Ising i trobant un anàleg en el conjunt de qubits i les seves connexions. "
   ]
  },
  {
   "cell_type": "code",
   "execution_count": 1,
   "metadata": {},
   "outputs": [],
   "source": [
    "import matplotlib.pyplot as plt\n",
    "import numpy as np\n"
   ]
  },
  {
   "attachments": {},
   "cell_type": "markdown",
   "metadata": {},
   "source": [
    "### Nombre d'spins\n",
    "Elegim el nombre d'spins del sistema N que volem simular"
   ]
  },
  {
   "cell_type": "code",
   "execution_count": 2,
   "metadata": {},
   "outputs": [],
   "source": [
    "N = 4"
   ]
  },
  {
   "attachments": {},
   "cell_type": "markdown",
   "metadata": {},
   "source": [
    "### Possibles estats\n",
    "El nombre d'estats del sistema creix com $2^N$ on N és el nombre de bits del sistema. Això fa que per un nombre mitjanament gran de spins no sigui possible computar tots els estats per a trobar el de mínima energia.\n"
   ]
  },
  {
   "cell_type": "code",
   "execution_count": 3,
   "metadata": {},
   "outputs": [
    {
     "name": "stdout",
     "output_type": "stream",
     "text": [
      "[[-1. -1. -1. -1.]\n",
      " [-1. -1. -1.  1.]\n",
      " [-1. -1.  1. -1.]\n",
      " [-1. -1.  1.  1.]\n",
      " [-1.  1. -1. -1.]\n",
      " [-1.  1. -1.  1.]\n",
      " [-1.  1.  1. -1.]\n",
      " [-1.  1.  1.  1.]\n",
      " [ 1. -1. -1. -1.]\n",
      " [ 1. -1. -1.  1.]\n",
      " [ 1. -1.  1. -1.]\n",
      " [ 1. -1.  1.  1.]\n",
      " [ 1.  1. -1. -1.]\n",
      " [ 1.  1. -1.  1.]\n",
      " [ 1.  1.  1. -1.]\n",
      " [ 1.  1.  1.  1.]]\n",
      "Tindrem un total de: 16 estats\n"
     ]
    },
    {
     "data": {
      "image/png": "[encoded data removed]",
      "text/plain": [
       "<matplotlib.figure.Figure at 0x248e9621cf8>"
      ]
     },
     "metadata": {
      "needs_background": "light"
     },
     "output_type": "display_data"
    }
   ],
   "source": [
    "#Fem una matriu amb tots els possibles estats dels spins (2^N)\n",
    "#En una matriu de N columnes i 2^N files\n",
    "\n",
    "def matriu_estats(N):\n",
    "    matriu = np.zeros((2**N,N))\n",
    "    for i in range(2**N):\n",
    "        for j in range(N):\n",
    "            matriu[i,j] = (i // 2**(N-j-1)) % 2\n",
    "    matriu[matriu == 0] = -1\n",
    "    return matriu\n",
    "\n",
    "estats_spins = matriu_estats(N)\n",
    "print(estats_spins)\n",
    "\n",
    "print(\"Tindrem un total de:\", len(estats_spins), \"estats\")\n",
    "\n",
    "#Grafiquem el nombre d'estats en funció del nombre de spins\n",
    "x = np.arange(1,10)\n",
    "y = 2**x\n",
    "plt.plot(x,y, \"o\")\n",
    "plt.xlabel(\"Nombre de spins\")\n",
    "plt.ylabel(\"Nombre d'estats\")\n",
    "plt.show()"
   ]
  },
  {
   "attachments": {},
   "cell_type": "markdown",
   "metadata": {},
   "source": [
    "### Termes d'interacció entre els spins\n",
    "Per altra banda, la matriu $J_{ij}$ és el patró de interaccions entre els spins. Així, $J_{13}$ mesurarà les interaccions de l'spin 1 amb el 3. Una possible aproximació podria ser considerar que cada spin només interactua amb els dels seu voltant, els primers veïns, de forma que només quedarien diferents de zero la diagonal per sobre de la diagonal principal i la seva simètrica.\n",
    "\n",
    "En el nostre cas, com que només ens interessa veure com se simula el procés, aleatoritzarem els valors de la matriu. Això ho farem agafant valors d'una distribució Gaussiana de mitjana 0 i desviació estàndard 1."
   ]
  },
  {
   "cell_type": "code",
   "execution_count": 4,
   "metadata": {},
   "outputs": [
    {
     "data": {
      "text/plain": [
       "array([[ 0.        , -0.00693158, -0.31995088,  0.03782606],\n",
       "       [-0.26881607,  0.        , -0.1210524 ,  0.3364348 ],\n",
       "       [ 0.02775744, -0.34275796,  0.        , -0.18272845],\n",
       "       [ 1.37890674, -0.09859783,  0.59005496,  0.        ]])"
      ]
     },
     "execution_count": 4,
     "metadata": {},
     "output_type": "execute_result"
    }
   ],
   "source": [
    "#Declarem la matriu J d'interacció entre diferents spins\n",
    "matrix_J = np.random.normal(loc=0, scale=1, size=(N, N))\n",
    "matrix_J[np.diag_indices(N)] = 0\n",
    "\n",
    "\n",
    "matrix_J"
   ]
  },
  {
   "attachments": {},
   "cell_type": "markdown",
   "metadata": {},
   "source": [
    "### Terme d'interacció amb si mateix\n",
    "\n",
    "També existeix un terme energètic associat al propi spin, $\\alpha$. Per exemple, podem posar $\\alpha = 1$"
   ]
  },
  {
   "cell_type": "code",
   "execution_count": 5,
   "metadata": {},
   "outputs": [
    {
     "data": {
      "text/plain": [
       "1"
      ]
     },
     "execution_count": 5,
     "metadata": {},
     "output_type": "execute_result"
    }
   ],
   "source": [
    "#Declarem el terme d'interacció amb si mateix, alpha\n",
    "alpha = 1\n",
    "alpha"
   ]
  },
  {
   "attachments": {},
   "cell_type": "markdown",
   "metadata": {},
   "source": [
    "### Hamiltonià inicial del sistema\n",
    "\n",
    "Amb el nombre d'spins amb el que treballem, podem trobar quin és el ground state abans de simular l'evolució temporal del sistema. Això ho podem fer amb els valors propis. \n",
    "\n",
    "El Hamiltonià final del sistema:\n",
    "\n",
    "$$ \\mathcal{H}_0=-\\sum_{i,j} J_{i j} \\sigma_i^z \\sigma_j^z-\\alpha \\sum_i \\sigma_i^z$$\n",
    "\n",
    "On $\\sigma_i^z$ és la matriu de Pauli en la direcció z que actua en l'spin i. És important notar que els termes del sumatori tenen productes tensorials per una identitat 2x2 implícits en totes les posicions que no estem aplicant la matriu de Pauli. Per exemple, el terme d'interacció entre els spins 2 i 3 d'un sistema de 5 bits serà:\n",
    "\n",
    "$$J_{23}( I \\otimes \\sigma^z \\otimes \\sigma^z \\otimes I \\otimes I )$$\n",
    "\n",
    "Matrius\\\\\n",
    "\n",
    "$I =$ \n",
    "\\begin{pmatrix}\n",
    "1 & 0\\\\\n",
    "0 & 1\n",
    "\\end{pmatrix}\\hspace{2cm}\n",
    "\n",
    "$$ \\sigma^z = $$ \n",
    "\n",
    "\\begin{pmatrix}\n",
    "0 & 1\\\\\n",
    "1 & 0\n",
    "\\end{pmatrix}\\hspace{2cm}\n",
    "\n",
    "$$\\sigma^x =$$ \n",
    "\\begin{pmatrix}\n",
    "1 & 0 \\\\\n",
    "0 & -1\n",
    "\\end{pmatrix}\n"
   ]
  },
  {
   "cell_type": "code",
   "execution_count": 6,
   "metadata": {},
   "outputs": [
    {
     "name": "stdout",
     "output_type": "stream",
     "text": [
      "Energies de l'estat inicial:  [-3.74359755 -2.99106102 -2.32171034 -1.36053272 -1.32669591 -0.28937029\n",
      " -0.28937029 -0.08994977 -0.08994977  0.12291761  0.12291761  1.00893898\n",
      "  1.67828966  2.63946728  2.67330409  4.25640245]\n",
      "Vectors propis de l'estat inicial:  [[1. 0. 0. 0. 0. 0. 0. 0. 0. 0. 0. 0. 0. 0. 0. 0.]\n",
      " [0. 0. 0. 1. 0. 0. 0. 0. 0. 0. 0. 0. 0. 0. 0. 0.]\n",
      " [0. 1. 0. 0. 0. 0. 0. 0. 0. 0. 0. 0. 0. 0. 0. 0.]\n",
      " [0. 0. 0. 0. 0. 0. 0. 0. 0. 1. 0. 0. 0. 0. 0. 0.]\n",
      " [0. 0. 0. 0. 1. 0. 0. 0. 0. 0. 0. 0. 0. 0. 0. 0.]\n",
      " [0. 0. 0. 0. 0. 1. 0. 0. 0. 0. 0. 0. 0. 0. 0. 0.]\n",
      " [0. 0. 0. 0. 0. 0. 0. 0. 1. 0. 0. 0. 0. 0. 0. 0.]\n",
      " [0. 0. 0. 0. 0. 0. 0. 0. 0. 0. 0. 0. 1. 0. 0. 0.]\n",
      " [0. 0. 1. 0. 0. 0. 0. 0. 0. 0. 0. 0. 0. 0. 0. 0.]\n",
      " [0. 0. 0. 0. 0. 0. 0. 1. 0. 0. 0. 0. 0. 0. 0. 0.]\n",
      " [0. 0. 0. 0. 0. 0. 1. 0. 0. 0. 0. 0. 0. 0. 0. 0.]\n",
      " [0. 0. 0. 0. 0. 0. 0. 0. 0. 0. 0. 0. 0. 0. 1. 0.]\n",
      " [0. 0. 0. 0. 0. 0. 0. 0. 0. 0. 1. 0. 0. 0. 0. 0.]\n",
      " [0. 0. 0. 0. 0. 0. 0. 0. 0. 0. 0. 1. 0. 0. 0. 0.]\n",
      " [0. 0. 0. 0. 0. 0. 0. 0. 0. 0. 0. 0. 0. 1. 0. 0.]\n",
      " [0. 0. 0. 0. 0. 0. 0. 0. 0. 0. 0. 0. 0. 0. 0. 1.]]\n"
     ]
    },
    {
     "data": {
      "image/png": "[encoded data removed]",
      "text/plain": [
       "<matplotlib.figure.Figure at 0x248e9715ba8>"
      ]
     },
     "metadata": {
      "needs_background": "light"
     },
     "output_type": "display_data"
    },
    {
     "name": "stdout",
     "output_type": "stream",
     "text": [
      "Energia mínima:  -3.743597548429035 Corresponent al ground-state:  1 que és:  [-1. -1. -1. -1.]\n",
      "[1. 0. 0. 0. 0. 0. 0. 0. 0. 0. 0. 0. 0. 0. 0. 0.]\n"
     ]
    }
   ],
   "source": [
    "#Declarem les matrius de Pauli i la identitat\n",
    "sigma_x = np.array([[0,1],[1,0]])\n",
    "sigma_z = np.array([[1,0],[0,-1]])\n",
    "identitat = np.identity(2)\n",
    "\n",
    "#Calculem les energies del ground state, H0\n",
    "\n",
    "#Operador Hamiltonià H0\n",
    "def Ham0():\n",
    "    H = np.zeros((2**N, 2**N))\n",
    "\n",
    "    #Afegim el terme alpha\n",
    "    for i in range(N):\n",
    "        malpha = np.identity(1)\n",
    "        for j in range(N):\n",
    "            if j == i:\n",
    "                malpha = np.kron(malpha, sigma_z)\n",
    "            else:\n",
    "                malpha = np.kron(malpha, identitat)\n",
    "        H -= alpha*malpha\n",
    "\n",
    "    #Afegim el terme J\n",
    "    for i in range(N-1):\n",
    "        for j in range(i,N):\n",
    "            mJ = np.identity(1)\n",
    "            for k in range(N):\n",
    "                if k == i:\n",
    "                    mJ = np.kron(mJ, sigma_z)\n",
    "                elif k == j:\n",
    "                    mJ = np.kron(mJ, sigma_z)\n",
    "                else:\n",
    "                    mJ = np.kron(mJ, identitat)\n",
    "            H -= matrix_J[i,j]*mJ\n",
    "    return H\n",
    "\n",
    "H0 = Ham0()\n",
    "\n",
    "#Calculem les energies del ground state, H0\n",
    "vals_H0, vecs_H0 = np.linalg.eigh(H0)\n",
    "\n",
    "print (\"Energies de l'estat inicial: \", vals_H0)\n",
    "print (\"Vectors propis de l'estat inicial: \", vecs_H0)\n",
    "#Trobem un anàleg de l'ordre de les energies amb els estats corresponents\n",
    "ordre = []\n",
    "for i in range(2**N):\n",
    "    num = np.where(vecs_H0[:,i] == 1)[0][0]\n",
    "    ordre.append(num)\n",
    "\n",
    "\n",
    "#Grafiquem l'energia H0 per tots els estats possibles\n",
    "#En un eix el nombre d'estat i en l'altre l'energia\n",
    "ordremes1 = [i+1 for i in ordre]\n",
    "plt.plot(ordremes1, vals_H0, \"o\")\n",
    "plt.xlabel('Estats')\n",
    "plt.ylabel('Energia')\n",
    "plt.show()\n",
    "\n",
    "print(\"Energia mínima: \", vals_H0[0], \"Corresponent al ground-state: \", ordremes1[0], \"que és: \", estats_spins[ordre[0]])\n",
    "\n",
    "E_min = vals_H0[0]\n",
    "\n",
    "#Guardem el vector propi corresponent a l'estat amb energia mínima\n",
    "vec_minH0 = vecs_H0[:,0]\n",
    "print (vec_minH0)\n"
   ]
  },
  {
   "attachments": {},
   "cell_type": "markdown",
   "metadata": {},
   "source": [
    "### Operador Hamiltonià temporal\n",
    "\n",
    "Com s'ha anunciat al principi, l'operador hamiltonià de la nostra simulació també tindrà un terme que evolucionarà amb el temps. Serà de la forma:\n",
    "\n",
    "$$ \\mathcal{H}(t)=\\mathcal{H}_0-\\Gamma(t) \\sum_i \\sigma_i^x $$\n",
    "on:\n",
    "$$ \\mathcal{H}_0=-\\sum_{i,j} J_{i j} \\sigma_i^z \\sigma_j^z-\\alpha \\sum_i \\sigma_i^z$$\n",
    "\n",
    "És molt importnant escollir una funció $\\Gamma (t)$ que avanci de forma prou lenta com perquè el sistema no salti entre el ground state i els primers excitats. El sistema ha d'evolucionar de forma adiabàtica. Per exemple, nosaltres farem servir:\n",
    "\n",
    "$$ \\Gamma (t) = \\frac{10}{1+t}$$\n"
   ]
  },
  {
   "cell_type": "code",
   "execution_count": 7,
   "metadata": {},
   "outputs": [
    {
     "name": "stdout",
     "output_type": "stream",
     "text": [
      "Energies: [-4.02037346e+01 -2.06105582e+01 -2.02796063e+01 -1.97720484e+01\n",
      " -1.97502037e+01 -7.25615492e-01 -2.13080786e-01  1.27917932e-02\n",
      "  7.29226697e-02  1.97682277e-01  6.50272721e-01  1.96016159e+01\n",
      "  1.99225545e+01  2.04333004e+01  2.04549692e+01  4.02087381e+01]\n",
      "Estat inicial: [-0.29993984 -0.26859662 -0.28091285 -0.24699477 -0.26835357 -0.24850743\n",
      " -0.24828625 -0.22574707 -0.27572174 -0.24787323 -0.25013097 -0.22079066\n",
      " -0.2465457  -0.22920434 -0.22095662 -0.20168599]\n"
     ]
    }
   ],
   "source": [
    "\n",
    "\n",
    "#Operador Hamiltonià\n",
    "def H(t):\n",
    "    H = np.zeros((2**N, 2**N))\n",
    "\n",
    "    #Afegim el terme alpha\n",
    "    for i in range(N):\n",
    "        malpha = np.identity(1)\n",
    "        for j in range(N):\n",
    "            if j == i:\n",
    "                malpha = np.kron(malpha, sigma_z)\n",
    "            else:\n",
    "                malpha = np.kron(malpha, identitat)\n",
    "        H -= alpha*malpha\n",
    "\n",
    "    #Afegim el terme J\n",
    "    for i in range(N-1):\n",
    "        for j in range(i,N):\n",
    "            mJ = np.identity(1)\n",
    "            for k in range(N):\n",
    "                if k == i:\n",
    "                    mJ = np.kron(mJ, sigma_z)\n",
    "                elif k == j:\n",
    "                    mJ = np.kron(mJ, sigma_z)\n",
    "                else:\n",
    "                    mJ = np.kron(mJ, identitat)\n",
    "            H -= matrix_J[i,j]*mJ\n",
    "\n",
    "    #Afegim el terme gamma\n",
    "    gamma = 10./(t+1.)\n",
    "    for i in range(N):\n",
    "        mgamma = np.identity(1)\n",
    "        for j in range(N):\n",
    "            if j == i:\n",
    "                mgamma = np.kron(mgamma, sigma_x)\n",
    "            else:\n",
    "                mgamma = np.kron(mgamma, identitat)\n",
    "        H -= gamma*mgamma\n",
    "\n",
    "    return H\n",
    "\n",
    "H0 = H(0)\n",
    "\n",
    "#Diagonalitzem H0 per obtenir els valors propis i els vectors propis\n",
    "valors_propis, vectors_propis = np.linalg.eigh(H0)\n",
    "\n",
    "print(\"Energies:\", valors_propis)\n",
    "\n",
    "\n",
    "#Guardem l'estat propi del ground state al temps inicial\n",
    "ground_state = vectors_propis[:,0]\n",
    "\n",
    "print(\"Estat inicial:\", ground_state)\n"
   ]
  },
  {
   "attachments": {},
   "cell_type": "markdown",
   "metadata": {},
   "source": [
    "### Evolució temporal\n",
    "\n",
    "Per a veure com avança el Hamiltonià amb el temps, haurem de simular l'Equació d'Schrödinger depenent del temps (ESDT). Això ho farem mitjançant el mètode de Crank-Nicolson, un mètode numèric de diferències finites per a resoldre equacions en derivades parcials.\n",
    "\n",
    "\\begin{equation}\n",
    "i \\frac{\\partial|\\phi(t)\\rangle}{\\partial t}=\\mathcal{H}(t)|\\phi(t)\\rangle\n",
    "\\end{equation}\n",
    "\n",
    " Primer de tot buscarem una aproximació de l'estat $|\\phi(t+\\Delta t / 2)\\rangle$ una com a semipas endavant des de $t$.\n",
    "\\begin{equation}\n",
    " \\frac{\\partial|\\phi(t)\\rangle}{\\partial t} \\approx 2i\\frac{\\phi \\left( t + \\Delta t/2\\right) - \\phi(t)}{\\Delta t } \n",
    " \\hspace{0.5cm} \\xrightarrow{ESDT} \\hspace{0.5cm}\n",
    " \\left|\\phi\\left(t+\\frac{\\Delta t}{2}\\right)\\right\\rangle=\\left(1-\\frac{i \\Delta t}{2} \\mathcal{H}\\right)|\\phi(t)\\rangle\n",
    "\\end{equation}\n",
    "\n",
    "Farem el mateix però com un semipas enrere des de $t + \\Delta t$.\n",
    "\n",
    "\\begin{equation}\n",
    "\\left|\\phi\\left(t+\\frac{\\Delta t}{2}\\right)\\right\\rangle=\\left(1+\\frac{i \\Delta t}{2} \\mathcal{H}\\right)|\\phi(t+\\Delta t)\\rangle\n",
    "\\end{equation}\n",
    "\n",
    "Igualem les dues expressions i obtenim:\n",
    "\n",
    "\\begin{equation}\n",
    "\\left(1+i \\frac{\\Delta t}{2 \\hbar} \\hat{H}\\right) \\phi(t+\\Delta t)=\\left(1-i \\frac{\\Delta t}{2 \\hbar} \\hat{H}\\right) \\phi(t)\n",
    "\\end{equation}\n",
    "\n",
    "\\begin{equation}\n",
    "|\\phi(t+\\Delta t)\\rangle=\\left(1+i \\frac{\\Delta t}{2} \\mathcal{H}\\right)^{-1}\\left(1-i \\frac{\\Delta t}{2} \\mathcal{H}\\right)|\\phi(t)\\rangle\n",
    "\\end{equation}\n",
    "\n",
    "Per tant, el problema a resoldre serà:\n",
    "\n",
    "\\begin{equation}\n",
    "\\hat{A} \\vec{\\Psi}(x, t+\\Delta t)=\\vec{b}\n",
    "\\end{equation}\n",
    "\n",
    "On tots els $\\mathcal{H} = \\mathcal{H}(t)$. Considerarem $\\Gamma_1=10 /(t+1)$. \\\\\n",
    "\n",
    "El nostre estat inicial serà l'estat de mínima energia de l'Hamiltonià depenent del temps a l'instant inicial\n"
   ]
  },
  {
   "cell_type": "code",
   "execution_count": 8,
   "metadata": {},
   "outputs": [
    {
     "data": {
      "image/png": "[encoded data removed]",
      "text/plain": [
       "<matplotlib.figure.Figure at 0x248e976fc18>"
      ]
     },
     "metadata": {
      "needs_background": "light"
     },
     "output_type": "display_data"
    },
    {
     "name": "stdout",
     "output_type": "stream",
     "text": [
      "Energia final: -3.7710591789208476\n",
      "Valor teòric: -3.743597548429035\n"
     ]
    }
   ],
   "source": [
    "#Crank-Nicolson per a la resolució de l'equació de Schrödinger en el temps\n",
    "\n",
    "psi = ground_state\n",
    "psi = psi/np.linalg.norm(psi) #Normalitzem\n",
    "\n",
    "#Definim el temps inicial i final\n",
    "t_inicial = 0\n",
    "t_final = 100\n",
    "dt = 0.1\n",
    "\n",
    "#Definim el temps\n",
    "temps = np.arange(t_inicial, t_final, dt)\n",
    "vect_energy = []\n",
    "\n",
    "\n",
    "productes_escalars = []\n",
    "\n",
    "for t in temps:\n",
    "    #Definim les matrius de propagació\n",
    "    U_mes = np.identity(2**N) + 1j*dt/2.*H(t)\n",
    "    U_menys = np.identity(2**N) - 1j*dt/2.*H(t)\n",
    "\n",
    "    #Fem un pas de temps dt\n",
    "    psi = np.linalg.solve(U_mes, np.dot(U_menys, psi))\n",
    "\n",
    "    #Calculem l'energia\n",
    "    energia = np.real(np.dot(np.conjugate(psi), np.dot(H(t), psi)))\n",
    "    vect_energy.append(energia)\n",
    "\n",
    "    #Calculem el producte escalar entre psi i el vector propi del ground state\n",
    "    producte_escalar = np.linalg.norm((np.dot(np.conjugate(psi), vec_minH0)))**2\n",
    "    productes_escalars.append(producte_escalar)\n",
    "\n",
    "#Grafiquem l'energia en funció del temps amb l'eix x en escala logarítmica\n",
    "fig = plt.figure()\n",
    "ax = fig.add_subplot(111)\n",
    "ax.set_xscale('log')\n",
    "plt.plot(temps, vect_energy)\n",
    "plt.yticks(np.arange(-50,0,5))\n",
    "plt.xlabel('Temps')\n",
    "plt.ylabel('Energia')\n",
    "plt.grid()\n",
    "plt.ylim = (-40,0)\n",
    "plt.show()\n",
    "\n",
    "#Mostrem el valor final de l'energia\n",
    "print(\"Energia final:\", vect_energy[-1])\n",
    "print(\"Valor teòric:\", E_min)"
   ]
  },
  {
   "attachments": {},
   "cell_type": "markdown",
   "metadata": {},
   "source": [
    "Veiem que l'energia avança cap al ground-state. \n",
    "\n",
    "Una altra forma de comprovar si estem realitzant un procés adiabàtic és amb el producte escalar entre el vector propi del groundstate i el nostre vector. Idelment hauria d'avançar cap a 1."
   ]
  },
  {
   "cell_type": "code",
   "execution_count": 9,
   "metadata": {},
   "outputs": [
    {
     "data": {
      "image/png": "[encoded data removed]",
      "text/plain": [
       "<matplotlib.figure.Figure at 0x248a70b7fd0>"
      ]
     },
     "metadata": {
      "needs_background": "light"
     },
     "output_type": "display_data"
    }
   ],
   "source": [
    "#Grafiquem els productes escalars en funció del temps\n",
    "plt.plot(temps, productes_escalars)\n",
    "plt.xlabel('Temps')\n",
    "plt.ylabel('Producte escalar')\n",
    "plt.grid()\n",
    "plt.show()\n"
   ]
  },
  {
   "attachments": {},
   "cell_type": "markdown",
   "metadata": {},
   "source": [
    "## SIMULACIÓ DEL PROBLEMA DEL COMERCIANT AMB QUANTUM ANNEALING\n",
    "\n",
    "Per simular el problema, haurem d'expressar el problema del comerciant com un Hamiltonià d'on volem trobar l'estat de mínima energia.\n",
    "El problema del comerciant (en anglès: Travelling salesman problem) es pot enunciar de la següent forma: _Un comerciant ha de passar per N ciutats, de forma que només vol passar un cop per cada lloc, i vol trobar la ruta més curta. Aquesta ruta ha d'acabar a la mateixa ciutat on ha començat._\n",
    "\n",
    "Matemàticament, podem formular el problema minimitzant la funció:\n",
    "\n",
    "\\begin{equation} \n",
    "    d = \\sum_{i=1}^n \\sum_{j \\neq i, j=1}^n c_{i j} x_{i j}\n",
    "\\end{equation}\n",
    "\n",
    "On d és la distància total del recorregut, $x_{ij}$ val 1 si les ciutats $i$ i $j$ estan connectades i 0 en cas contrari. Finalment, el coeficient $c_{ij}$ és el cost, normalment distància o temps, d'utlitzar el camí de la ciutat i a la j. Per tant, la funció sumarà totes les distàncies dels recorreguts entre nodes del recorregut proposat, ja que només pondera aquelles que $x_{ij} = 1$."
   ]
  },
  {
   "attachments": {},
   "cell_type": "markdown",
   "metadata": {},
   "source": [
    "### Formulació QUBO del problema\n",
    " A partir de la formulació per grafs que hem plantejat, podem traduïr el problema a un Hamiltonià d'un Ising model, que després tindrà un anàleg amb qubits.\n",
    "\n",
    " Primer de tot, podem expressar les restriccions de no passar dos cops per la mateixa ciutat com:\n",
    "\n",
    "\\begin{aligned}\n",
    "H_A =  A \\sum_{v=1}^n\\left(1-\\sum_{j=1}^N x_{v, j}\\right)^2+A \\sum_{j=1}^n\\left(1-\\sum_{v=1}^N x_{v, j}\\right)^2\n",
    " % +A \\sum_{(u v) \\notin E} \\sum_{j=1}^N x_{u, j} x_{v, j+1} .\n",
    "\\end{aligned}\n",
    "\n",
    "\n",
    "Que suposa una penalització d'energia de l'ordre de la constant $A>0$ si alguna s'incompleix. Els dos primers termes imposen que no passis dos cops per una ciutat, en cap de les dues direccions, ja que si només hi passes un cop, $\\left(1-\\sum_{j=1}^N x_{v, j}\\right)^2 = 0$ i no hi ha la penalització energètica. \n",
    "\n",
    "\n",
    "La part del Hamiltonià que ens expressi la distància total recorreguda la podem expressar de forma anàloga a l'equació de la distància.\n",
    "\n",
    "\\begin{equation}\n",
    "H_B=B \\sum_{(u v) \\in E} W_{u v} \\sum_{j=1}^N x_{u, j} x_{v, j+1} .\n",
    "\\end{equation}\n",
    "\n",
    "Finalment, el Hamiltonià total que haurem de traduir al nostre quantum annealer serà:\n",
    "\n",
    "\\begin{equation}\n",
    "    H = H_A + H_B\n",
    "\\end{equation}"
   ]
  },
  {
   "attachments": {},
   "cell_type": "markdown",
   "metadata": {},
   "source": [
    "### De QUBO a ISING\n",
    "\n",
    "Les variables en una formulació QUBO poden prendre els valors de 0 o 1. En canvi, en una formulació ISING poden prendre els valors de -1 o 1. Per a fer la transformació entre aquestes dues formulacions equivalents hem de tenir en compte que:\n",
    "\n",
    "$$ x_{I,i} = 2x_{Q,i}-1  \\xRightarrow{} x_Q = \\frac{x_I+1}{2}$$\n",
    "\n",
    "On $x_I$ són les variables en la formulació ISING i $x_Q$ en formulació QUBO. Per a traslladar-ho al sistema físic de qubits ens interessarà tenir el problema expressat com un ISING.\n",
    "\n",
    "Les constants que ens apareixin tindran implícita una multiplicació per una Identitat de dimensió $2^N * 2^N$ on N és el nombre de ciutats del nostre problema."
   ]
  },
  {
   "attachments": {},
   "cell_type": "markdown",
   "metadata": {},
   "source": [
    "### Aleatoritzem les ciutats\n",
    "\n",
    "En un mapa 100x100\n"
   ]
  },
  {
   "cell_type": "code",
   "execution_count": 80,
   "metadata": {},
   "outputs": [
    {
     "name": "stdout",
     "output_type": "stream",
     "text": [
      "Ciutats: [[54.2, 18.0], [56.7, 56.2], [13.5, 29.9], [82.8, 86.9], [59.6, 37.7]]\n"
     ]
    },
    {
     "data": {
      "image/png": "[encoded data removed]",
      "text/plain": [
       "<matplotlib.figure.Figure at 0x248e9b2d320>"
      ]
     },
     "metadata": {
      "needs_background": "light"
     },
     "output_type": "display_data"
    }
   ],
   "source": [
    "#Aleatoritzem les ciutats\n",
    "x_mapa = 100\n",
    "y_mapa = 100\n",
    "\n",
    "# number of cities\n",
    "N_ciutats = 5\n",
    "n = N_ciutats\n",
    "\n",
    "#Generem les coordenades x,y de les ciutats\n",
    "x = np.random.randint(0, x_mapa*10, n)\n",
    "x = x/10.\n",
    "y = np.random.randint(0, y_mapa*10, n)\n",
    "y = y/10.\n",
    "\n",
    "#Ho posem tot a una llista\n",
    "cities = []\n",
    "for i in range(n):\n",
    "    cities.append([x[i], y[i]])\n",
    "\n",
    "print(\"Ciutats:\", cities)\n",
    "\n",
    "#Les representem en un gràfic\n",
    "plt.plot(x, y, \"o\")\n",
    "plt.xlabel('x')\n",
    "plt.ylabel('y')\n",
    "plt.show()"
   ]
  },
  {
   "attachments": {},
   "cell_type": "markdown",
   "metadata": {},
   "source": [
    "### Matriu de distàncies"
   ]
  },
  {
   "cell_type": "code",
   "execution_count": 81,
   "metadata": {},
   "outputs": [
    {
     "name": "stdout",
     "output_type": "stream",
     "text": [
      "Distàncies: [[5.00000000e+04 3.82817189e+01 4.24040092e+01 7.46000670e+01\n",
      "  2.04266982e+01]\n",
      " [3.82817189e+01 5.00000000e+04 5.05759824e+01 4.02951610e+01\n",
      "  1.87259179e+01]\n",
      " [4.24040092e+01 5.05759824e+01 5.00000000e+04 8.97300953e+01\n",
      "  4.67552136e+01]\n",
      " [7.46000670e+01 4.02951610e+01 8.97300953e+01 5.00000000e+04\n",
      "  5.43955881e+01]\n",
      " [2.04266982e+01 1.87259179e+01 4.67552136e+01 5.43955881e+01\n",
      "  5.00000000e+04]]\n"
     ]
    },
    {
     "data": {
      "image/png": "[encoded data removed]",
      "text/plain": [
       "<matplotlib.figure.Figure at 0x248e97020f0>"
      ]
     },
     "metadata": {
      "needs_background": "light"
     },
     "output_type": "display_data"
    }
   ],
   "source": [
    "distancies = np.zeros((n,n))\n",
    "\n",
    "#Calculem les distàncies entre totes les ciutats\n",
    "for i in range(n):\n",
    "    for j in range(n):\n",
    "        distancies[i,j] = np.sqrt((x[i]-x[j])**2 + (y[i]-y[j])**2)\n",
    "        if i == j:\n",
    "            distancies[i,j] = 50000\n",
    "\n",
    "print(\"Distàncies:\", distancies)\n",
    "\n",
    "#Fem un mapa de les ciutats amb les distàncies a les arestes\n",
    "plt.plot(x, y, \"o\")\n",
    "for i in range(n):\n",
    "    for j in range(n):\n",
    "        if i != j:\n",
    "            plt.plot([x[i], x[j]], [y[i], y[j]], \"k\")\n",
    "            plt.text((x[i]+x[j])/2., (y[i]+y[j])/2., str(round(distancies[i,j],1)))\n",
    "plt.xlabel('x')\n",
    "plt.ylabel('y')\n",
    "plt.show()"
   ]
  },
  {
   "attachments": {},
   "cell_type": "markdown",
   "metadata": {},
   "source": [
    "### Resolució clàssica del problema per força bruta\n",
    "Sumarem totes les possibilitats i triarem la millor"
   ]
  },
  {
   "cell_type": "code",
   "execution_count": 82,
   "metadata": {},
   "outputs": [
    {
     "name": "stdout",
     "output_type": "stream",
     "text": [
      "Permutació amb distància mínima: [2, 1, 3, 4, 0]\n",
      "Distància mínima: 208.0974389586755\n"
     ]
    },
    {
     "data": {
      "image/png": "[encoded data removed]",
      "text/plain": [
       "<matplotlib.figure.Figure at 0x248e99db860>"
      ]
     },
     "metadata": {
      "needs_background": "light"
     },
     "output_type": "display_data"
    }
   ],
   "source": [
    "#Resolució per força bruta\n",
    "#Generem totes les permutacions possibles\n",
    "for i in range(n):\n",
    "    if i == 0:\n",
    "        permutacions = [[i]]\n",
    "    else:\n",
    "        permutacions_aux = []\n",
    "        for cas in permutacions:\n",
    "            for j in range(len(cas)+1):\n",
    "                permutacions_aux.append(cas[:j]+[i]+cas[j:])\n",
    "        permutacions = permutacions_aux\n",
    "\n",
    "#Calculem la distància de cada permutació\n",
    "distancies_permutacions = []\n",
    "for cas in permutacions:\n",
    "    dist = 0\n",
    "    for i in range(n):\n",
    "        dist += distancies[cas[i],cas[(i+1)%n]]\n",
    "    distancies_permutacions.append(dist)\n",
    "\n",
    "#Agafem la permutació amb la distància mínima\n",
    "min_dist = min(distancies_permutacions)\n",
    "min_perm = permutacions[distancies_permutacions.index(min_dist)]\n",
    "\n",
    "print(\"Permutació amb distància mínima:\", min_perm)\n",
    "print(\"Distància mínima:\", min_dist)\n",
    "\n",
    "#Representem la permutació amb la distància mínima\n",
    "plt.plot(x, y, \"o\")\n",
    "for i in range(n):\n",
    "    plt.text(x[i], y[i], str(min_perm[i]))\n",
    "for i in range(n):\n",
    "    plt.plot([x[min_perm[i]], x[min_perm[(i+1)%n]]], [y[min_perm[i]], y[min_perm[(i+1)%n]]], \"k\")\n",
    "plt.xlabel('x')\n",
    "plt.ylabel('y')\n",
    "plt.show()\n"
   ]
  },
  {
   "attachments": {},
   "cell_type": "markdown",
   "metadata": {},
   "source": [
    "### Diferents formulacions ising de les combinacions\n",
    "\n",
    "La que farem servir serà la darrera, amb variables +-1"
   ]
  },
  {
   "cell_type": "code",
   "execution_count": 79,
   "metadata": {},
   "outputs": [
    {
     "name": "stdout",
     "output_type": "stream",
     "text": [
      "[1, 1]\n",
      "[1, 2]\n",
      "[2, 1]\n",
      "[2, 2]\n",
      "[1, 2]\n",
      "4\n",
      "0 0 1 1 0\n",
      "0 1 1 1 4\n"
     ]
    },
    {
     "ename": "IndexError",
     "evalue": "index 4 is out of bounds for axis 0 with size 4",
     "output_type": "error",
     "traceback": [
      "\u001b[1;31m---------------------------------------------------------------------------\u001b[0m",
      "\u001b[1;31mIndexError\u001b[0m                                Traceback (most recent call last)",
      "\u001b[1;32m<ipython-input-79-92bdd88a2dbe>\u001b[0m in \u001b[0;36m<module>\u001b[1;34m\u001b[0m\n\u001b[0;32m     49\u001b[0m \u001b[1;33m\u001b[0m\u001b[0m\n\u001b[0;32m     50\u001b[0m         \u001b[0mprint\u001b[0m\u001b[1;33m(\u001b[0m\u001b[0mi\u001b[0m\u001b[1;33m,\u001b[0m \u001b[0mj\u001b[0m\u001b[1;33m,\u001b[0m \u001b[0mcity1\u001b[0m\u001b[1;33m,\u001b[0m \u001b[0mcity2\u001b[0m\u001b[1;33m,\u001b[0m \u001b[0mn\u001b[0m\u001b[1;33m*\u001b[0m\u001b[1;33m(\u001b[0m\u001b[0mcity1\u001b[0m\u001b[1;33m-\u001b[0m\u001b[1;36m1\u001b[0m\u001b[1;33m)\u001b[0m \u001b[1;33m+\u001b[0m \u001b[0mcity2\u001b[0m\u001b[1;33m-\u001b[0m\u001b[1;36m1\u001b[0m \u001b[1;33m+\u001b[0m \u001b[0mj\u001b[0m\u001b[1;33m*\u001b[0m\u001b[0mn\u001b[0m\u001b[1;33m**\u001b[0m\u001b[1;36m2\u001b[0m\u001b[1;33m)\u001b[0m\u001b[1;33m\u001b[0m\u001b[1;33m\u001b[0m\u001b[0m\n\u001b[1;32m---> 51\u001b[1;33m         \u001b[0mpermutacions_ising\u001b[0m\u001b[1;33m[\u001b[0m\u001b[0mi\u001b[0m\u001b[1;33m]\u001b[0m\u001b[1;33m[\u001b[0m\u001b[0mn\u001b[0m\u001b[1;33m*\u001b[0m\u001b[1;33m(\u001b[0m\u001b[0mcity1\u001b[0m\u001b[1;33m-\u001b[0m\u001b[1;36m1\u001b[0m\u001b[1;33m)\u001b[0m \u001b[1;33m+\u001b[0m \u001b[0mcity2\u001b[0m\u001b[1;33m-\u001b[0m\u001b[1;36m1\u001b[0m \u001b[1;33m+\u001b[0m \u001b[0mj\u001b[0m\u001b[1;33m*\u001b[0m\u001b[0mn\u001b[0m\u001b[1;33m**\u001b[0m\u001b[1;36m2\u001b[0m\u001b[1;33m]\u001b[0m \u001b[1;33m=\u001b[0m \u001b[1;36m1\u001b[0m\u001b[1;33m\u001b[0m\u001b[1;33m\u001b[0m\u001b[0m\n\u001b[0m\u001b[0;32m     52\u001b[0m \u001b[1;33m\u001b[0m\u001b[0m\n\u001b[0;32m     53\u001b[0m \u001b[0mprint\u001b[0m\u001b[1;33m(\u001b[0m\u001b[0mpermutacions_ising\u001b[0m\u001b[1;33m)\u001b[0m\u001b[1;33m\u001b[0m\u001b[1;33m\u001b[0m\u001b[0m\n",
      "\u001b[1;31mIndexError\u001b[0m: index 4 is out of bounds for axis 0 with size 4"
     ]
    }
   ],
   "source": [
    "#Possibles combinacions amb repeticio de n ciutats [1,1,1,1,...,1,1], [1,1,1,1,...,1,2], [1,1,1,1,...,1,3], ... , [n,n,n,n,...,n,n]\n",
    "\n",
    "combinacions = n**n\n",
    "permutacions = []\n",
    "for i in range(combinacions):\n",
    "    permutacions.append([i%n+1])   \n",
    "    for j in range(n-1):\n",
    "        permutacions[i].append(int(i/(n**(j+1)))%n+1)\n",
    "\n",
    "permutacions.sort()\n",
    "for i in range(combinacions):\n",
    "    print(permutacions[i])\n",
    "\n",
    "#Podem asignar a cada estat un valor binari en un vector de n**n posicions\n",
    "#Per exemple, [1,1,1,...,1,1] -> [1,0,0,...,0,0]; [1,1,1,...,1,2] -> [0,1,0,...,0,0]; [1,1,1,...,1,3] -> [0,0,1,...,0,0]; ... ; [n,n,n,...,n,n] -> [0,0,0,...,0,1]\n",
    "permutacions_binari = np.zeros((combinacions, combinacions))\n",
    "permutacions_binari = np.eye(combinacions)\n",
    "\n",
    "# print(permutacions_binari)\n",
    "\n",
    "#També podem passar els estats directament a les variables que hem fet servir en la formulació\n",
    "#d'Ising model. D'aquesta manera, cada estat tindrà definida com a +-1 les variables x^i_{jk} de forma que \n",
    "#Serà igual a 1 si a la iteració i, es va de la ciutat j a la k, i -1 en tots els altres casos.\n",
    "\n",
    "ciutats = []\n",
    "for i in range(n):\n",
    "    ciutats.append(i+1)\n",
    "print(ciutats)\n",
    "\n",
    "permutacions_ising = np.zeros((combinacions, n**2))\n",
    "#Restem 1 a les permutacions_ising per tenir -1 per defecte enlloc de 0\n",
    "\n",
    "permutacions_ising = permutacions_ising - 1\n",
    "\n",
    "# print(permutacions_ising)\n",
    "\n",
    "print(len(permutacions))\n",
    "# print(len(permutacions_ising))\n",
    "for i in range(len(permutacions)):\n",
    "    for j in range(n):\n",
    "        permutacio = permutacions[i]\n",
    "\n",
    "        if j == 0:\n",
    "            city1 = permutacio[n-1]\n",
    "        else:\n",
    "            city1 = permutacio[j-1]\n",
    "\n",
    "        city2 = permutacio[j]\n",
    "\n",
    "        print(i, j, city1, city2, n*(city1-1) + city2-1 + j*n**2)\n",
    "        permutacions_ising[i][n*(city1-1) + city2-1 + j*n**2] = 1\n",
    "\n",
    "print(permutacions_ising)\n"
   ]
  },
  {
   "attachments": {},
   "cell_type": "markdown",
   "metadata": {},
   "source": [
    "### Variables (Spins) necessaris en funció del nombre de ciutats\n",
    "Veiem que creix com $n^3$"
   ]
  },
  {
   "cell_type": "code",
   "execution_count": 78,
   "metadata": {},
   "outputs": [
    {
     "data": {
      "image/png": "[encoded data removed]",
      "text/plain": [
       "<matplotlib.figure.Figure at 0x248a5aa3470>"
      ]
     },
     "metadata": {
      "needs_background": "light"
     },
     "output_type": "display_data"
    }
   ],
   "source": [
    "#Grafiquem el nombre de variables x^i_{jk} en funció de les ciutats\n",
    "def nombre_variables(nombre_ciutats):\n",
    "    return nombre_ciutats**3\n",
    "\n",
    "x = np.arange(1, 10, 1)\n",
    "y = nombre_variables(x)\n",
    "plt.plot(x, y, \"o\")\n",
    "plt.xlabel('Nombre de ciutats')\n",
    "plt.ylabel('Nombre de qubits')\n",
    "plt.show()\n"
   ]
  },
  {
   "attachments": {},
   "cell_type": "markdown",
   "metadata": {},
   "source": [
    "### Ampliem la matriu de distàncies\n",
    "\n",
    "S'haurà de repetir per cada cop que viatgem d'una ciutat a una altra. Això ho podem fer multiplicant per identitats"
   ]
  },
  {
   "cell_type": "code",
   "execution_count": 74,
   "metadata": {},
   "outputs": [
    {
     "name": "stdout",
     "output_type": "stream",
     "text": [
      "[[50000.            95.92048791     0.             0.\n",
      "      0.             0.             0.             0.        ]\n",
      " [   95.92048791 50000.             0.             0.\n",
      "      0.             0.             0.             0.        ]\n",
      " [    0.             0.         50000.            95.92048791\n",
      "      0.             0.             0.             0.        ]\n",
      " [    0.             0.            95.92048791 50000.\n",
      "      0.             0.             0.             0.        ]\n",
      " [    0.             0.             0.             0.\n",
      "  50000.            95.92048791     0.             0.        ]\n",
      " [    0.             0.             0.             0.\n",
      "     95.92048791 50000.             0.             0.        ]\n",
      " [    0.             0.             0.             0.\n",
      "      0.             0.         50000.            95.92048791]\n",
      " [    0.             0.             0.             0.\n",
      "      0.             0.            95.92048791 50000.        ]]\n"
     ]
    }
   ],
   "source": [
    "#Multipliquem la matriu de distàncies per tantes identitats com ciutats tinguem.\n",
    "#Això ens permetrà multiplicar cada element de la matriu de distàncies per una variable x^i_{jk}\n",
    "\n",
    "identitat = np.eye(n)\n",
    "distancies_ising = distancies\n",
    "for i in range (n):\n",
    "    distancies_ising = np.kron(identitat, distancies_ising )\n",
    "\n",
    "print(distancies_ising)"
   ]
  },
  {
   "attachments": {},
   "cell_type": "markdown",
   "metadata": {},
   "source": [
    "## HAMILTONIÀ DEL TSP"
   ]
  },
  {
   "cell_type": "code",
   "execution_count": 75,
   "metadata": {},
   "outputs": [],
   "source": [
    "N_spins = N_ciutats**3\n",
    "\n",
    "#Definim l'hamiltonià del problema del viatjant \n",
    "#Per resoldre'l amb simulació de quantum annealing\n",
    "#Tindrà dues parts, la de restricció i la de distància\n",
    "sigma_x = np.array([[0,1],[1,0]])\n",
    "sigma_z = np.array([[1,0],[0,-1]])\n",
    "\n",
    "#Part de restricció, on A és el pes de la restricció\n",
    "#Hem de tenir en compte que hi ha productes tensorials implícits\n",
    "A=1000\n",
    "def H_restriccio(A):\n",
    "    H = np.zeros((2**N_spins, 2**N_spins))\n",
    "    #Sumem per totes les i\n",
    "    for i in range(N_spins-1):\n",
    "        for j in range(i,N_spins):\n",
    "            mJ = np.identity(1)\n",
    "            for k in range(N_spins):\n",
    "                if k == i:\n",
    "                    mJ = np.kron(mJ, sigma_z)\n",
    "                elif k == j:\n",
    "                    mJ = np.kron(mJ, sigma_z)\n",
    "                else:\n",
    "                    mJ = np.kron(mJ, identitat)\n",
    "            H += (1-mJ)*(1-mJ)\n",
    "    #Ara sumem per totes les j\n",
    "    for j in range(N_spins-1):\n",
    "        for i in range(i,N_spins):\n",
    "            mJ = np.identity(1)\n",
    "            for k in range(N_spins):\n",
    "                if k == i:\n",
    "                    mJ = np.kron(mJ, sigma_z)\n",
    "                elif k == j:\n",
    "                    mJ = np.kron(mJ, sigma_z)\n",
    "                else:\n",
    "                    mJ = np.kron(mJ, identitat)\n",
    "            H += (1-mJ)*(1-mJ)\n",
    "    return H*A\n",
    "\n",
    "\n",
    "    \n"
   ]
  },
  {
   "cell_type": "code",
   "execution_count": 76,
   "metadata": {},
   "outputs": [
    {
     "name": "stdout",
     "output_type": "stream",
     "text": [
      "0 1 7\n",
      "0 2 7\n",
      "0 3 7\n",
      "0 4 7\n",
      "0 5 7\n",
      "0 6 7\n",
      "0 7 7\n",
      "1 0 7\n",
      "1 2 7\n",
      "1 3 7\n",
      "1 4 7\n",
      "1 5 7\n",
      "1 6 7\n",
      "1 7 7\n",
      "2 0 7\n",
      "2 1 7\n",
      "2 3 7\n",
      "2 4 7\n",
      "2 5 7\n",
      "2 6 7\n",
      "2 7 7\n",
      "3 0 7\n",
      "3 1 7\n",
      "3 2 7\n",
      "3 4 7\n",
      "3 5 7\n",
      "3 6 7\n",
      "3 7 7\n",
      "4 0 7\n",
      "4 1 7\n",
      "4 2 7\n",
      "4 3 7\n",
      "4 5 7\n",
      "4 6 7\n",
      "4 7 7\n",
      "5 0 7\n",
      "5 1 7\n",
      "5 2 7\n",
      "5 3 7\n",
      "5 4 7\n",
      "5 6 7\n",
      "5 7 7\n",
      "6 0 7\n",
      "6 1 7\n",
      "6 2 7\n",
      "6 3 7\n",
      "6 4 7\n",
      "6 5 7\n",
      "6 7 7\n",
      "7 0 7\n",
      "7 1 7\n",
      "7 2 7\n",
      "7 3 7\n",
      "7 4 7\n",
      "7 5 7\n",
      "7 6 7\n",
      "Energies:  [-4.19155715e+04 -1.40418746e+04 -6.61631805e+03 -6.61631805e+03\n",
      " -6.61631805e+03 -6.61631805e+03 -5.75020434e+03 -2.61631805e+03\n",
      " -2.17633606e+03  1.33836820e+04  1.33836820e+04  1.33836820e+04\n",
      "  1.33836820e+04  1.33836820e+04  1.40222258e+04  1.73836820e+04\n",
      "  1.75773277e+04  2.10000000e+04  2.10000000e+04  2.10000000e+04\n",
      "  2.10000000e+04  2.10000000e+04  2.10000000e+04  2.10000000e+04\n",
      "  2.10000000e+04  2.15028481e+04  2.17673639e+04  2.22366973e+04\n",
      "  2.50000000e+04  2.50000000e+04  2.50000000e+04  2.50000000e+04\n",
      "  2.50000000e+04  2.50000000e+04  2.50000000e+04  2.50000000e+04\n",
      "  2.56175437e+04  2.62980367e+04  3.30000000e+04  3.30000000e+04\n",
      "  3.30000000e+04  3.30000000e+04  3.30000000e+04  3.30000000e+04\n",
      "  3.30000000e+04  3.30000000e+04  3.30000000e+04  3.30000000e+04\n",
      "  3.30000000e+04  3.30000000e+04  3.30000000e+04  3.35772887e+04\n",
      "  3.37673639e+04  3.42463405e+04  3.70000000e+04  3.70000000e+04\n",
      "  3.70000000e+04  3.70000000e+04  3.70000000e+04  3.70000000e+04\n",
      "  3.70000000e+04  3.70000000e+04  3.70000000e+04  3.74811886e+04\n",
      "  3.77673639e+04  3.80638470e+04  4.06163180e+04  4.06163180e+04\n",
      "  4.06163180e+04  4.06163180e+04  4.06163180e+04  4.06163180e+04\n",
      "  4.06163180e+04  4.08697866e+04  4.13836820e+04  4.13836820e+04\n",
      "  4.13836820e+04  4.13836820e+04  4.13836820e+04  4.13836820e+04\n",
      "  4.13836820e+04  4.18857972e+04  4.46163180e+04  4.46163180e+04\n",
      "  4.46163180e+04  4.46163180e+04  4.46163180e+04  4.46163180e+04\n",
      "  4.46163180e+04  4.46163180e+04  4.46163180e+04  4.46163180e+04\n",
      "  4.46163180e+04  4.46163180e+04  4.46163180e+04  4.46163180e+04\n",
      "  4.46163180e+04  4.46163180e+04  4.46163180e+04  4.46163180e+04\n",
      "  4.46163180e+04  4.46163180e+04  4.46163180e+04  4.46163180e+04\n",
      "  4.46163180e+04  4.46163180e+04  4.46163180e+04  4.46163180e+04\n",
      "  4.46163180e+04  4.50455521e+04  4.53836820e+04  4.53836820e+04\n",
      "  4.53836820e+04  4.53836820e+04  4.53836820e+04  4.53836820e+04\n",
      "  4.53836820e+04  4.53836820e+04  4.53836820e+04  4.53836820e+04\n",
      "  4.53836820e+04  4.53836820e+04  4.53836820e+04  4.53836820e+04\n",
      "  4.53836820e+04  4.53836820e+04  4.53836820e+04  4.67835598e+04\n",
      "  4.82326361e+04  4.82326361e+04  4.82326361e+04  4.82893923e+04\n",
      "  4.86163180e+04  4.86163180e+04  4.86163180e+04  4.86163180e+04\n",
      "  4.86163180e+04  4.86163180e+04  4.86163180e+04  4.86163180e+04\n",
      "  4.86163180e+04  4.86163180e+04  4.86163180e+04  4.86163180e+04\n",
      "  4.86163180e+04  4.86163180e+04  4.86163180e+04  4.88283177e+04\n",
      "  4.90000000e+04  4.90000000e+04  4.90000000e+04  4.90000000e+04\n",
      "  4.90000000e+04  4.90000000e+04  4.90000000e+04  4.90000000e+04\n",
      "  4.90000000e+04  4.92047173e+04  4.93836820e+04  4.93836820e+04\n",
      "  4.93836820e+04  4.93836820e+04  4.93836820e+04  4.93836820e+04\n",
      "  4.93836820e+04  4.93836820e+04  4.93836820e+04  4.93836820e+04\n",
      "  4.93836820e+04  4.93836820e+04  4.93836820e+04  4.97517684e+04\n",
      "  5.12136635e+04  5.22326361e+04  5.22326361e+04  5.22326361e+04\n",
      "  5.22326361e+04  5.22326361e+04  5.22326361e+04  5.22326361e+04\n",
      "  5.24370017e+04  5.30000000e+04  5.30000000e+04  5.30000000e+04\n",
      "  5.30000000e+04  5.30000000e+04  5.30000000e+04  5.30000000e+04\n",
      "  5.30000000e+04  5.30000000e+04  5.30000000e+04  5.30000000e+04\n",
      "  5.30000000e+04  5.30000000e+04  5.30000000e+04  5.30000000e+04\n",
      "  5.30000000e+04  5.30000000e+04  5.30000000e+04  5.30000000e+04\n",
      "  5.30000000e+04  5.30000000e+04  5.30000000e+04  5.30000000e+04\n",
      "  5.30000000e+04  5.30000000e+04  5.30000000e+04  5.30000000e+04\n",
      "  5.30000000e+04  5.37106509e+04  5.37673639e+04  5.37673639e+04\n",
      "  5.55958426e+04  5.62326361e+04  5.62326361e+04  5.62326361e+04\n",
      "  5.63477551e+04  5.66163180e+04  5.66163180e+04  5.66163180e+04\n",
      "  5.66163180e+04  5.66163180e+04  5.66163180e+04  5.66163180e+04\n",
      "  5.67814628e+04  5.70000000e+04  5.70000000e+04  5.70000000e+04\n",
      "  5.70000000e+04  5.70000000e+04  5.70000000e+04  5.70000000e+04\n",
      "  5.70000000e+04  5.70000000e+04  5.70000000e+04  5.70000000e+04\n",
      "  5.70000000e+04  5.70000000e+04  5.70000000e+04  5.73409497e+04\n",
      "  5.73836820e+04  5.73836820e+04  5.77149169e+04  5.77673639e+04\n",
      "  5.77673639e+04  6.04005389e+04  6.06163180e+04  6.06163180e+04\n",
      "  6.06163180e+04  6.11768336e+04  6.13836820e+04  6.13836820e+04\n",
      "  6.13836820e+04  6.13836820e+04  6.13836820e+04  1.10510210e+07]\n",
      "Vectors propis del ground state:  [[ 9.97917770e-01 -6.74334212e-03 -3.66060601e-26 ... -1.51922565e-16\n",
      "   0.00000000e+00  6.20196169e-02]\n",
      " [-5.72167547e-03  6.93148920e-03  7.30867447e-15 ...  2.10412489e-15\n",
      "  -1.84829601e-15  6.23321207e-02]\n",
      " [-8.05115502e-03  1.66381347e-02 -1.25599505e-14 ... -2.06014072e-16\n",
      "  -2.50541946e-16  6.22418957e-02]\n",
      " ...\n",
      " [-5.33572285e-03  6.04921503e-03 -2.08166817e-15 ... -5.93000046e-16\n",
      "   1.71440954e-16  6.23547178e-02]\n",
      " [-3.79840597e-03  3.42982481e-03 -2.84494650e-16 ... -1.08179028e-15\n",
      "   8.52055073e-17  6.24906454e-02]\n",
      " [-1.14295821e-02 -9.96532172e-01  2.77555756e-15 ...  6.94985444e-17\n",
      "  -1.71513269e-16  6.21765541e-02]]\n"
     ]
    }
   ],
   "source": [
    "#Part de distància, on B és el pes de la distància\n",
    "#Hem de tenir en compte que hi ha productes tensorials implícits\n",
    "B=1\n",
    "def H_distancia(B):\n",
    "    H = np.zeros((2**N_spins, 2**N_spins))\n",
    "    for i in range(N_spins):\n",
    "        for j in range(N_spins):\n",
    "            if i != j:\n",
    "                mJ = np.identity(1)\n",
    "                for k in range(N_spins):\n",
    "                    if k == i:\n",
    "                        mJ = np.kron(mJ, sigma_z)\n",
    "                    elif k == j:\n",
    "                        mJ = np.kron(mJ, sigma_z)\n",
    "                    else:\n",
    "                        mJ = np.kron(mJ, identitat)\n",
    "                print(i,j,k)\n",
    "                H += distancies_ising[i,j]*mJ\n",
    "    return H*B\n",
    "\n",
    "H0_TSP = H_distancia(B) + H_restriccio(A)\n",
    "vals_H0_TSP, vecs_H0_TSP = np.linalg.eigh(H0_TSP)\n",
    "\n",
    "print (\"Energies: \", vals_H0_TSP)\n",
    "print (\"Vectors propis del ground state: \", vecs_H0_TSP)\n",
    "\n"
   ]
  },
  {
   "cell_type": "code",
   "execution_count": 16,
   "metadata": {},
   "outputs": [
    {
     "name": "stdout",
     "output_type": "stream",
     "text": [
      "Hamiltonià de restricció: [[    0. 26000. 26000. ... 26000. 26000. 26000.]\n",
      " [26000. 40000. 26000. ... 26000. 26000. 26000.]\n",
      " [26000. 26000. 32000. ... 26000. 26000. 26000.]\n",
      " ...\n",
      " [26000. 26000. 26000. ... 44000. 26000. 26000.]\n",
      " [26000. 26000. 26000. ... 26000. 60000. 26000.]\n",
      " [26000. 26000. 26000. ... 26000. 26000. 20000.]]\n",
      "Hamiltonià de distància: [[1085.1900998     0.            0.         ...    0.\n",
      "     0.            0.        ]\n",
      " [   0.          496.44322484    0.         ...    0.\n",
      "     0.            0.        ]\n",
      " [   0.            0.          280.88528549 ...    0.\n",
      "     0.            0.        ]\n",
      " ...\n",
      " [   0.            0.            0.         ...  280.88528549\n",
      "     0.            0.        ]\n",
      " [   0.            0.            0.         ...    0.\n",
      "   496.44322484    0.        ]\n",
      " [   0.            0.            0.         ...    0.\n",
      "     0.         1085.1900998 ]]\n",
      "Hamiltonià total: [[ 1085.1900998  26010.         26000.         ... 26000.\n",
      "  26000.         26000.        ]\n",
      " [26010.         40496.44322484 26000.         ... 26000.\n",
      "  26000.         26000.        ]\n",
      " [26000.         26000.         32280.88528549 ... 26000.\n",
      "  26000.         26000.        ]\n",
      " ...\n",
      " [26000.         26000.         26000.         ... 44280.88528549\n",
      "  26000.         26000.        ]\n",
      " [26000.         26000.         26000.         ... 26000.\n",
      "  60496.44322484 26010.        ]\n",
      " [26000.         26000.         26000.         ... 26000.\n",
      "  26010.         21085.1900998 ]]\n"
     ]
    }
   ],
   "source": [
    "#Afegim el terme gamma\n",
    "def H_gamma(t):\n",
    "    gamma = 10./(t+1.)\n",
    "    for i in range(N):\n",
    "        mgamma = np.identity(1)\n",
    "        for j in range(N):\n",
    "            if j == i:\n",
    "                mgamma = np.kron(mgamma, sigma_x)\n",
    "            else:\n",
    "                mgamma = np.kron(mgamma, identitat)\n",
    "\n",
    "    return gamma*mgamma\n",
    "\n",
    "\n",
    "#Definim l'hamiltonià total\n",
    "def H_total(A,B,t):\n",
    "    return H_restriccio(A) + H_distancia(B) + H_gamma(t)\n",
    "\n",
    "print(\"Hamiltonià de restricció:\", H_restriccio(1000))\n",
    "print(\"Hamiltonià de distància:\", H_distancia(1))\n",
    "print(\"Hamiltonià total:\", H_total(1000,1,0))"
   ]
  },
  {
   "cell_type": "code",
   "execution_count": 17,
   "metadata": {},
   "outputs": [
    {
     "name": "stdout",
     "output_type": "stream",
     "text": [
      "Energies: [ -24175.9597863    -4494.92596485    2318.071442      2454.55083139\n",
      "    3400.97762451    6248.98616774    7130.8928436    14317.04787405\n",
      "   14409.96240432   14517.2579025    15431.77939586   18248.19454551\n",
      "   18738.2027959    21923.01488372   21981.56692303   22037.87261129\n",
      "   22643.08048876   25538.70002088   25732.09133293   25893.532278\n",
      "   25906.20340963   25913.93949743   25939.08334484   25972.7310587\n",
      "   26007.33281939   26016.53067406   26030.73703819   26042.94663975\n",
      "   26053.29260995   27749.61244716   29534.91584698   29643.46661053\n",
      "   29739.43928466   29872.75577385   29890.14500307   29904.78548716\n",
      "   29923.3318699    29932.71842204   29982.12480159   30008.22756516\n",
      "   30038.13025702   32133.3849358    33559.66837666   33597.22292109\n",
      "   33654.46457383   33744.06081983   33868.0785033    33879.47797766\n",
      "   33892.33562957   33919.86003439   33935.7950221    34440.84582499\n",
      "   36588.69431973   37562.10703654   37632.43434878   37749.1274752\n",
      "   37878.16657971   37900.92866985   37926.23810529   37993.80441127\n",
      "   38031.07612968   41642.52312582   41975.64212931 1690096.71597368]\n",
      "Energia propia del ground state: -24175.959786299867\n",
      "Estat propi del ground state: [-0.99186866  0.01921145  0.02406353  0.0135232   0.02764204  0.01463065\n",
      "  0.01460564  0.01262082  0.02743722  0.01459262  0.01459327  0.0126262\n",
      "  0.01588735  0.01362403  0.01179957  0.01354892  0.02768023  0.01459793\n",
      "  0.01475091  0.01269631  0.01586752  0.01355505  0.01184621  0.01355605\n",
      "  0.01585251  0.01356096  0.01186762  0.01360106  0.01261185  0.01463452\n",
      "  0.01108625  0.017288    0.02411254  0.0135438   0.01590465  0.0135439\n",
      "  0.01469145  0.01268935  0.01262663  0.01459036  0.01463895  0.01266487\n",
      "  0.01262151  0.01460308  0.01187371  0.013652    0.01178281  0.01904819\n",
      "  0.01463064  0.01261157  0.01268129  0.01461987  0.01181237  0.01351687\n",
      "  0.01177934  0.0189328   0.01180766  0.01352748  0.01180412  0.0190301\n",
      "  0.01107244  0.01726279  0.0124872   0.03805118]\n"
     ]
    }
   ],
   "source": [
    "H0_TSP = H_total(1000,1,0)\n",
    "\n",
    "#Diagonalitzem H0 per obtenir els valors propis i els vectors propis\n",
    "valors_propis, vectors_propis = np.linalg.eigh(H0_TSP)\n",
    "\n",
    "print(\"Energies:\", valors_propis)\n",
    "\n",
    "\n",
    "#Guardem l'estat propi del ground state al temps inicial\n",
    "ground_energy_TSP = np.amin(valors_propis)\n",
    "ordre = np.argsort(valors_propis)\n",
    "\n",
    "ground_state_TSP = vectors_propis[:,ordre[0]]\n",
    "\n",
    "print (\"Energia propia del ground state:\", ground_energy_TSP)\n",
    "print(\"Estat propi del ground state:\", ground_state_TSP)"
   ]
  },
  {
   "cell_type": "code",
   "execution_count": 18,
   "metadata": {},
   "outputs": [
    {
     "ename": "NameError",
     "evalue": "name 'g' is not defined",
     "output_type": "error",
     "traceback": [
      "\u001b[1;31m---------------------------------------------------------------------------\u001b[0m",
      "\u001b[1;31mNameError\u001b[0m                                 Traceback (most recent call last)",
      "\u001b[1;32m<ipython-input-18-d81838cbb4e7>\u001b[0m in \u001b[0;36m<module>\u001b[1;34m\u001b[0m\n\u001b[0;32m     34\u001b[0m \u001b[1;33m\u001b[0m\u001b[0m\n\u001b[0;32m     35\u001b[0m     \u001b[1;31m#Calculem el producte escalar entre psi i el vector propi del ground state\u001b[0m\u001b[1;33m\u001b[0m\u001b[1;33m\u001b[0m\u001b[1;33m\u001b[0m\u001b[0m\n\u001b[1;32m---> 36\u001b[1;33m     \u001b[0mproducte_escalar\u001b[0m \u001b[1;33m=\u001b[0m \u001b[0mnp\u001b[0m\u001b[1;33m.\u001b[0m\u001b[0mlinalg\u001b[0m\u001b[1;33m.\u001b[0m\u001b[0mnorm\u001b[0m\u001b[1;33m(\u001b[0m\u001b[1;33m(\u001b[0m\u001b[0mnp\u001b[0m\u001b[1;33m.\u001b[0m\u001b[0mdot\u001b[0m\u001b[1;33m(\u001b[0m\u001b[0mnp\u001b[0m\u001b[1;33m.\u001b[0m\u001b[0mconjugate\u001b[0m\u001b[1;33m(\u001b[0m\u001b[0mpsi\u001b[0m\u001b[1;33m)\u001b[0m\u001b[1;33m,\u001b[0m \u001b[0mg\u001b[0m\u001b[1;33m)\u001b[0m\u001b[1;33m)\u001b[0m\u001b[1;33m)\u001b[0m\u001b[1;33m**\u001b[0m\u001b[1;36m2\u001b[0m\u001b[1;33m\u001b[0m\u001b[1;33m\u001b[0m\u001b[0m\n\u001b[0m\u001b[0;32m     37\u001b[0m     \u001b[0mproductes_escalars\u001b[0m\u001b[1;33m.\u001b[0m\u001b[0mappend\u001b[0m\u001b[1;33m(\u001b[0m\u001b[0mproducte_escalar\u001b[0m\u001b[1;33m)\u001b[0m\u001b[1;33m\u001b[0m\u001b[1;33m\u001b[0m\u001b[0m\n\u001b[0;32m     38\u001b[0m \u001b[1;33m\u001b[0m\u001b[0m\n",
      "\u001b[1;31mNameError\u001b[0m: name 'g' is not defined"
     ]
    }
   ],
   "source": [
    "#Afegim un terme ortogonoal que evolucioni amb el temps\n",
    "#Per tal de fer la simulació de quantum annealing\n",
    "#Crank-Nicolson per a la resolució de l'equació de Schrödinger en el temps\n",
    "\n",
    "psi = ground_state_TSP\n",
    "psi = psi/np.linalg.norm(psi) #Normalitzem\n",
    "\n",
    "#Definim el temps inicial i final\n",
    "t_inicial = 0\n",
    "t_final = 100\n",
    "dt = 0.1\n",
    "\n",
    "#Definim el temps\n",
    "temps = np.arange(t_inicial, t_final, dt)\n",
    "vect_energy = []\n",
    "\n",
    "\n",
    "productes_escalars = []\n",
    "\n",
    "A = 1000\n",
    "B = 1\n",
    "\n",
    "for t in temps:\n",
    "    #Definim les matrius de propagació\n",
    "    U_mes = np.identity(2**N) + 1j*dt/2.*H_total(A,B,t)\n",
    "    U_menys = np.identity(2**N) - 1j*dt/2.*H_total(A,B,t)\n",
    "\n",
    "    #Fem un pas de temps dt\n",
    "    psi = np.linalg.solve(U_mes, np.dot(U_menys, psi))\n",
    "\n",
    "    #Calculem l'energia\n",
    "    energia = np.real(np.dot(np.conjugate(psi), np.dot(H_total(A,B,t), psi)))\n",
    "    vect_energy.append(energia)\n",
    "\n",
    "    #Calculem el producte escalar entre psi i el vector propi del ground state\n",
    "    producte_escalar = np.linalg.norm((np.dot(np.conjugate(psi), g)))**2\n",
    "    productes_escalars.append(producte_escalar)\n",
    "\n",
    "#Grafiquem l'energia en funció del temps amb l'eix x en escala logarítmica\n",
    "fig = plt.figure() \n",
    "ax = fig.add_subplot(111)\n",
    "ax.set_xscale('log')\n",
    "plt.plot(temps, vect_energy)\n",
    "plt.yticks(np.arange(-50,0,5))\n",
    "plt.xlabel('Temps')\n",
    "plt.ylabel('Energia')\n",
    "plt.grid()\n",
    "plt.ylim = (-40,0)\n",
    "plt.show()\n",
    "\n",
    "#Mostrem el valor final de l'energia\n",
    "print(\"Energia final:\", vect_energy[-1])\n",
    "print(\"Valor teòric:\", E_min)\n"
   ]
  },
  {
   "attachments": {},
   "cell_type": "markdown",
   "metadata": {},
   "source": [
    "## REFERÈNCIES\n",
    "\n",
    "Quantum Annealing in the transverse Ising Model, Óscar Promio MuÑnoz"
   ]
  },
  {
   "cell_type": "code",
   "execution_count": null,
   "metadata": {},
   "outputs": [],
   "source": []
  }
 ],
 "metadata": {
  "kernelspec": {
   "display_name": "Python 3 (ipykernel)",
   "language": "python",
   "name": "python3"
  },
  "language_info": {
   "codemirror_mode": {
    "name": "ipython",
    "version": 3
   },
   "file_extension": ".py",
   "mimetype": "text/x-python",
   "name": "python",
   "nbconvert_exporter": "python",
   "pygments_lexer": "ipython3",
   "version": "3.6.13"
  }
 },
 "nbformat": 4,
 "nbformat_minor": 2
}
