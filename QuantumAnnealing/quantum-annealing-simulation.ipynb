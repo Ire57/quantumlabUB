{
 "cells": [
  {
   "attachments": {},
   "cell_type": "markdown",
   "metadata": {},
   "source": [
    "# SIMULACIÓ DE QUANTUM ANNEALING\n",
    "Robert Vila Alsina,\n",
    "\n",
    "Primavera 2023\n",
    "\n",
    "Pràctiques d'empresa, tutors: Bruno Julià i Carles Calero\n",
    "\n",
    "## Quantum Annealing\n",
    "\n",
    "Aquesta forma de computació quàntica utilitza el Teorema Adiabàtic per a evolucionar el Hamiltonià d'un conjunt de qubits en el temps fins a trobar l'estat de mínima energia. Al principi, s'aplica un camp molt fort en la direcció transversal x que força els spins cap a una direcció. El camp transversal es va reduint de forma adiabàtica i al final obtenim el ground state. \n",
    "\n",
    "L'Hamiltonià del sistema es pot expressar:\n",
    "\n",
    "$$ \\mathcal{H}(t)=\\mathcal{H}_0-\\Gamma(t) \\sum_i \\sigma_i^x $$\n",
    "on:\n",
    "$$ \\mathcal{H}_0=-\\sum_{i,j} J_{i j} \\sigma_i^z \\sigma_j^z-\\alpha \\sum_i \\sigma_i^z$$\n",
    "\n",
    "La idea és començar amb una $\\Gamma (t)$ molt gran i anar-la reduïnt poc a poc, de manera adabàtica. Això correspon al camp transversal x que apliquem als qubits. Després de l'evolució, l'únic terme que quedarà serà el $\\mathcal{H}_0$, que ens permetrà trobar quina és l'energia associada al groundstate.\n",
    "\n",
    "La importància d'aquesta tècnica de computació quàntica és que es pot fer servir com a eina per a resoldre problemes d'optimització de combinatòria. Això es pot fer expressant el problema com un Hamiltonià d'un model d'Ising i trobant un anàleg en el conjunt de qubits i les seves connexions. "
   ]
  },
  {
   "cell_type": "code",
   "execution_count": 1,
   "metadata": {},
   "outputs": [],
   "source": [
    "import matplotlib.pyplot as plt\n",
    "import numpy as np\n"
   ]
  },
  {
   "attachments": {},
   "cell_type": "markdown",
   "metadata": {},
   "source": [
    "### Nombre d'spins\n",
    "Elegim el nombre d'spins del sistema N que volem simular"
   ]
  },
  {
   "cell_type": "code",
   "execution_count": 2,
   "metadata": {},
   "outputs": [],
   "source": [
    "N = 4"
   ]
  },
  {
   "attachments": {},
   "cell_type": "markdown",
   "metadata": {},
   "source": [
    "### Possibles estats\n",
    "El nombre d'estats del sistema creix com $2^N$ on N és el nombre de bits del sistema. Això fa que per un nombre mitjanament gran de spins no sigui possible computar tots els estats per a trobar el de mínima energia.\n"
   ]
  },
  {
   "cell_type": "code",
   "execution_count": 3,
   "metadata": {},
   "outputs": [
    {
     "name": "stdout",
     "output_type": "stream",
     "text": [
      "[[-1. -1. -1. -1.]\n",
      " [-1. -1. -1.  1.]\n",
      " [-1. -1.  1. -1.]\n",
      " [-1. -1.  1.  1.]\n",
      " [-1.  1. -1. -1.]\n",
      " [-1.  1. -1.  1.]\n",
      " [-1.  1.  1. -1.]\n",
      " [-1.  1.  1.  1.]\n",
      " [ 1. -1. -1. -1.]\n",
      " [ 1. -1. -1.  1.]\n",
      " [ 1. -1.  1. -1.]\n",
      " [ 1. -1.  1.  1.]\n",
      " [ 1.  1. -1. -1.]\n",
      " [ 1.  1. -1.  1.]\n",
      " [ 1.  1.  1. -1.]\n",
      " [ 1.  1.  1.  1.]]\n",
      "Tindrem un total de: 16 estats\n"
     ]
    },
    {
     "data": {
      "image/png": "[encoded data removed]",
      "text/plain": [
       "<matplotlib.figure.Figure at 0x187b0597ba8>"
      ]
     },
     "metadata": {
      "needs_background": "light"
     },
     "output_type": "display_data"
    }
   ],
   "source": [
    "#Fem una matriu amb tots els possibles estats dels spins (2^N)\n",
    "#En una matriu de N columnes i 2^N files\n",
    "\n",
    "def matriu_estats(N):\n",
    "    matriu = np.zeros((2**N,N))\n",
    "    for i in range(2**N):\n",
    "        for j in range(N):\n",
    "            matriu[i,j] = (i // 2**(N-j-1)) % 2\n",
    "    matriu[matriu == 0] = -1\n",
    "    return matriu\n",
    "\n",
    "estats_spins = matriu_estats(N)\n",
    "print(estats_spins)\n",
    "\n",
    "print(\"Tindrem un total de:\", len(estats_spins), \"estats\")\n",
    "\n",
    "#Grafiquem el nombre d'estats en funció del nombre de spins\n",
    "x = np.arange(1,10)\n",
    "y = 2**x\n",
    "plt.plot(x,y, \"o\")\n",
    "plt.xlabel(\"Nombre de spins\")\n",
    "plt.ylabel(\"Nombre d'estats\")\n",
    "plt.show()"
   ]
  },
  {
   "attachments": {},
   "cell_type": "markdown",
   "metadata": {},
   "source": [
    "### Termes d'interacció entre els spins\n",
    "Per altra banda, la matriu $J_{ij}$ és el patró de interaccions entre els spins. Així, $J_{13}$ mesurarà les interaccions de l'spin 1 amb el 3. Una possible aproximació podria ser considerar que cada spin només interactua amb els dels seu voltant, els primers veïns, de forma que només quedarien diferents de zero la diagonal per sobre de la diagonal principal i la seva simètrica.\n",
    "\n",
    "En el nostre cas, com que només ens interessa veure com se simula el procés, aleatoritzarem els valors de la matriu. Això ho farem agafant valors d'una distribució Gaussiana de mitjana 0 i desviació estàndard 1."
   ]
  },
  {
   "cell_type": "code",
   "execution_count": 4,
   "metadata": {},
   "outputs": [
    {
     "data": {
      "text/plain": [
       "array([[ 0.        , -1.2634578 ,  1.83827646, -0.40129363],\n",
       "       [-0.89672287,  0.        , -0.13528561,  1.15612491],\n",
       "       [ 0.71199717, -0.60222297,  0.        , -0.48045438],\n",
       "       [-0.0265928 ,  1.62816494, -1.35694291,  0.        ]])"
      ]
     },
     "execution_count": 4,
     "metadata": {},
     "output_type": "execute_result"
    }
   ],
   "source": [
    "#Declarem la matriu J d'interacció entre diferents spins\n",
    "matrix_J = np.random.normal(loc=0, scale=1, size=(N, N))\n",
    "matrix_J[np.diag_indices(N)] = 0\n",
    "\n",
    "\n",
    "matrix_J"
   ]
  },
  {
   "attachments": {},
   "cell_type": "markdown",
   "metadata": {},
   "source": [
    "### Terme d'interacció amb si mateix\n",
    "\n",
    "També existeix un terme energètic associat al propi spin, $\\alpha$. Per exemple, podem posar $\\alpha = 1$"
   ]
  },
  {
   "cell_type": "code",
   "execution_count": 5,
   "metadata": {},
   "outputs": [
    {
     "data": {
      "text/plain": [
       "1"
      ]
     },
     "execution_count": 5,
     "metadata": {},
     "output_type": "execute_result"
    }
   ],
   "source": [
    "#Declarem el terme d'interacció amb si mateix, alpha\n",
    "alpha = 1\n",
    "alpha"
   ]
  },
  {
   "attachments": {},
   "cell_type": "markdown",
   "metadata": {},
   "source": [
    "### Hamiltonià inicial del sistema\n",
    "\n",
    "Amb el nombre d'spins amb el que treballem, podem trobar quin és el ground state abans de simular l'evolució temporal del sistema. Això ho podem fer amb els valors propis. \n",
    "\n",
    "El Hamiltonià final del sistema:\n",
    "\n",
    "$$ \\mathcal{H}_0=-\\sum_{i,j} J_{i j} \\sigma_i^z \\sigma_j^z-\\alpha \\sum_i \\sigma_i^z$$\n",
    "\n",
    "On $\\sigma_i^z$ és la matriu de Pauli en la direcció z que actua en l'spin i. És important notar que els termes del sumatori tenen productes tensorials per una identitat 2x2 implícits en totes les posicions que no estem aplicant la matriu de Pauli. Per exemple, el terme d'interacció entre els spins 2 i 3 d'un sistema de 5 bits serà:\n",
    "\n",
    "$$J_{23}( I \\otimes \\sigma^z \\otimes \\sigma^z \\otimes I \\otimes I )$$\n",
    "\n",
    "Matrius\n",
    "$$ I = \\begin{pmatrix}\n",
    "1 & 0\\\\\n",
    "0 & 1\n",
    "\\end{pmatrix}\\hspace{2cm}\n",
    "\\sigma^z = \\begin{pmatrix}\n",
    "0 & 1\\\\\n",
    "1 & 0\n",
    "\\end{pmatrix} \\hspace{2cm}\n",
    "\\sigma^x = \\begin{pmatrix}\n",
    "1 & 0 \\\\\n",
    "0 & -1\n",
    "\\end{pmatrix}\n",
    "\n",
    "$$"
   ]
  },
  {
   "cell_type": "code",
   "execution_count": 6,
   "metadata": {},
   "outputs": [
    {
     "name": "stdout",
     "output_type": "stream",
     "text": [
      "Energies del ground state:  [-5.2748928  -5.2748928  -4.71390995 -3.19914695 -2.36685989 -2.16515615\n",
      " -0.26883701  0.80085305  1.63314011  1.78706844  1.78706844  1.83484385\n",
      "  3.28609005  3.73116299  4.20173431  4.20173431]\n",
      "Vectors propis del ground state:  [[0. 0. 1. 0. 0. 0. 0. 0. 0. 0. 0. 0. 0. 0. 0. 0.]\n",
      " [0. 0. 0. 0. 0. 1. 0. 0. 0. 0. 0. 0. 0. 0. 0. 0.]\n",
      " [0. 0. 0. 0. 0. 0. 1. 0. 0. 0. 0. 0. 0. 0. 0. 0.]\n",
      " [0. 0. 0. 0. 0. 0. 0. 0. 0. 0. 0. 0. 0. 0. 1. 0.]\n",
      " [0. 0. 0. 1. 0. 0. 0. 0. 0. 0. 0. 0. 0. 0. 0. 0.]\n",
      " [1. 0. 0. 0. 0. 0. 0. 0. 0. 0. 0. 0. 0. 0. 0. 0.]\n",
      " [0. 0. 0. 0. 0. 0. 0. 0. 0. 0. 1. 0. 0. 0. 0. 0.]\n",
      " [0. 0. 0. 0. 0. 0. 0. 0. 1. 0. 0. 0. 0. 0. 0. 0.]\n",
      " [0. 0. 0. 0. 1. 0. 0. 0. 0. 0. 0. 0. 0. 0. 0. 0.]\n",
      " [0. 0. 0. 0. 0. 0. 0. 0. 0. 1. 0. 0. 0. 0. 0. 0.]\n",
      " [0. 1. 0. 0. 0. 0. 0. 0. 0. 0. 0. 0. 0. 0. 0. 0.]\n",
      " [0. 0. 0. 0. 0. 0. 0. 1. 0. 0. 0. 0. 0. 0. 0. 0.]\n",
      " [0. 0. 0. 0. 0. 0. 0. 0. 0. 0. 0. 0. 0. 0. 0. 1.]\n",
      " [0. 0. 0. 0. 0. 0. 0. 0. 0. 0. 0. 0. 0. 1. 0. 0.]\n",
      " [0. 0. 0. 0. 0. 0. 0. 0. 0. 0. 0. 1. 0. 0. 0. 0.]\n",
      " [0. 0. 0. 0. 0. 0. 0. 0. 0. 0. 0. 0. 1. 0. 0. 0.]]\n"
     ]
    },
    {
     "data": {
      "image/png": "[encoded data removed]",
      "text/plain": [
       "<matplotlib.figure.Figure at 0x187b067d748>"
      ]
     },
     "metadata": {
      "needs_background": "light"
     },
     "output_type": "display_data"
    },
    {
     "name": "stdout",
     "output_type": "stream",
     "text": [
      "Energia mínima:  -5.274892802424301 Corresponent a l'estat:  6 que és:  [-1.  1. -1.  1.]\n",
      "[0. 0. 0. 0. 0. 1. 0. 0. 0. 0. 0. 0. 0. 0. 0. 0.]\n"
     ]
    }
   ],
   "source": [
    "#Declarem les matrius de Pauli i la identitat\n",
    "sigma_x = np.array([[0,1],[1,0]])\n",
    "sigma_z = np.array([[1,0],[0,-1]])\n",
    "identitat = np.identity(2)\n",
    "\n",
    "#Calculem les energies del ground state, H0\n",
    "\n",
    "#Operador Hamiltonià H0\n",
    "def Ham0():\n",
    "    H = np.zeros((2**N, 2**N))\n",
    "\n",
    "    #Afegim el terme alpha\n",
    "    for i in range(N):\n",
    "        malpha = np.identity(1)\n",
    "        for j in range(N):\n",
    "            if j == i:\n",
    "                malpha = np.kron(malpha, sigma_z)\n",
    "            else:\n",
    "                malpha = np.kron(malpha, identitat)\n",
    "        H -= alpha*malpha\n",
    "\n",
    "    #Afegim el terme J\n",
    "    for i in range(N-1):\n",
    "        for j in range(i,N):\n",
    "            mJ = np.identity(1)\n",
    "            for k in range(N):\n",
    "                if k == i:\n",
    "                    mJ = np.kron(mJ, sigma_z)\n",
    "                elif k == j:\n",
    "                    mJ = np.kron(mJ, sigma_z)\n",
    "                else:\n",
    "                    mJ = np.kron(mJ, identitat)\n",
    "            H -= matrix_J[i,j]*mJ\n",
    "    return H\n",
    "\n",
    "H0 = Ham0()\n",
    "\n",
    "#Calculem les energies del ground state, H0\n",
    "vals_H0, vecs_H0 = np.linalg.eigh(H0)\n",
    "\n",
    "print (\"Energies del ground state: \", vals_H0)\n",
    "print (\"Vectors propis del ground state: \", vecs_H0)\n",
    "#Trobem un anàleg de l'ordre de les energies amb els estats corresponents\n",
    "ordre = []\n",
    "for i in range(2**N):\n",
    "    num = np.where(vecs_H0[:,i] == 1)[0][0]\n",
    "    ordre.append(num)\n",
    "\n",
    "\n",
    "#Grafiquem l'energia H0 per tots els estats possibles\n",
    "#En un eix el nombre d'estat i en l'altre l'energia\n",
    "ordremes1 = [i+1 for i in ordre]\n",
    "plt.plot(ordremes1, vals_H0, \"o\")\n",
    "plt.xlabel('Estats')\n",
    "plt.ylabel('Energia')\n",
    "plt.show()\n",
    "\n",
    "print(\"Energia mínima: \", vals_H0[0], \"Corresponent a l'estat: \", ordremes1[0], \"que és: \", estats_spins[ordre[0]])\n",
    "\n",
    "E_min = vals_H0[0]\n",
    "\n",
    "#Guardem el vector propi corresponent a l'estat amb energia mínima\n",
    "vec_minH0 = vecs_H0[:,0]\n",
    "print (vec_minH0)\n"
   ]
  },
  {
   "attachments": {},
   "cell_type": "markdown",
   "metadata": {},
   "source": [
    "### Operador Hamiltonià temporal\n",
    "\n",
    "Com s'ha anunciat al principi, l'operador hamiltonià de la nostra simulació també tindrà un terme que evolucionarà amb el temps. Serà de la forma:\n",
    "\n",
    "$$ \\mathcal{H}(t)=\\mathcal{H}_0-\\Gamma(t) \\sum_i \\sigma_i^x $$\n",
    "on:\n",
    "$$ \\mathcal{H}_0=-\\sum_{i,j} J_{i j} \\sigma_i^z \\sigma_j^z-\\alpha \\sum_i \\sigma_i^z$$\n",
    "\n",
    "És molt importnant escollir una funció $\\Gamma (t)$ que avanci de forma prou lenta com perquè el sistema no salti entre el ground state i els primers excitats. El sistema ha d'evolucionar de forma adiabàtica. Per exemple, nosaltres farem servir:\n",
    "\n",
    "$$ \\Gamma (t) = \\frac{10}{1+t}$$\n"
   ]
  },
  {
   "cell_type": "code",
   "execution_count": 7,
   "metadata": {},
   "outputs": [
    {
     "name": "stdout",
     "output_type": "stream",
     "text": [
      "Energies: [-40.37647869 -22.96478139 -20.5161325  -19.32492645 -17.94636619\n",
      "  -3.64659789  -0.90556519  -0.25744468   0.42759959   1.17197223\n",
      "   3.23606185  17.56985608  19.75184889  20.98141956  22.44650437\n",
      "  40.35303041]\n",
      "Estat inicial: [0.30575786 0.27367019 0.26011643 0.22145446 0.28158529 0.28325994\n",
      " 0.23474835 0.22461444 0.27503917 0.23525774 0.28130498 0.22880335\n",
      " 0.22309283 0.21441737 0.22346614 0.20413396]\n"
     ]
    }
   ],
   "source": [
    "\n",
    "\n",
    "#Operador Hamiltonià\n",
    "def H(t):\n",
    "    H = np.zeros((2**N, 2**N))\n",
    "\n",
    "    #Afegim el terme alpha\n",
    "    for i in range(N):\n",
    "        malpha = np.identity(1)\n",
    "        for j in range(N):\n",
    "            if j == i:\n",
    "                malpha = np.kron(malpha, sigma_z)\n",
    "            else:\n",
    "                malpha = np.kron(malpha, identitat)\n",
    "        H -= alpha*malpha\n",
    "\n",
    "    #Afegim el terme J\n",
    "    for i in range(N-1):\n",
    "        for j in range(i,N):\n",
    "            mJ = np.identity(1)\n",
    "            for k in range(N):\n",
    "                if k == i:\n",
    "                    mJ = np.kron(mJ, sigma_z)\n",
    "                elif k == j:\n",
    "                    mJ = np.kron(mJ, sigma_z)\n",
    "                else:\n",
    "                    mJ = np.kron(mJ, identitat)\n",
    "            H -= matrix_J[i,j]*mJ\n",
    "\n",
    "    #Afegim el terme gamma\n",
    "    gamma = 10./(t+1.)\n",
    "    for i in range(N):\n",
    "        mgamma = np.identity(1)\n",
    "        for j in range(N):\n",
    "            if j == i:\n",
    "                mgamma = np.kron(mgamma, sigma_x)\n",
    "            else:\n",
    "                mgamma = np.kron(mgamma, identitat)\n",
    "        H -= gamma*mgamma\n",
    "\n",
    "    return H\n",
    "\n",
    "H0 = H(0)\n",
    "\n",
    "#Diagonalitzem H0 per obtenir els valors propis i els vectors propis\n",
    "valors_propis, vectors_propis = np.linalg.eigh(H0)\n",
    "\n",
    "print(\"Energies:\", valors_propis)\n",
    "\n",
    "\n",
    "#Guardem l'estat propi del ground state al temps inicial\n",
    "ground_state = vectors_propis[:,0]\n",
    "\n",
    "print(\"Estat inicial:\", ground_state)\n"
   ]
  },
  {
   "attachments": {},
   "cell_type": "markdown",
   "metadata": {},
   "source": [
    "### Evolució temporal\n",
    "\n",
    "Per a veure com avança el Hamiltonià amb el temps, haurem de simular l'Equació d'Schrödinger depenent del temps (ESDT). Això ho farem mitjançant el mètode de Crank-Nicolson, un mètode numèric de diferències finites per a resoldre equacions en derivades parcials.\n",
    "\n",
    "\\begin{equation}\n",
    "i \\frac{\\partial|\\phi(t)\\rangle}{\\partial t}=\\mathcal{H}(t)|\\phi(t)\\rangle\n",
    "\\end{equation}\n",
    "\n",
    " Primer de tot buscarem una aproximació de l'estat $|\\phi(t+\\Delta t / 2)\\rangle$ una com a semipas endavant des de $t$.\n",
    "\\begin{equation}\n",
    " \\frac{\\partial|\\phi(t)\\rangle}{\\partial t} \\approx 2i\\frac{\\phi \\left( t + \\Delta t/2\\right) - \\phi(t)}{\\Delta t } \n",
    " \\hspace{0.5cm} \\xrightarrow{ESDT} \\hspace{0.5cm}\n",
    " \\left|\\phi\\left(t+\\frac{\\Delta t}{2}\\right)\\right\\rangle=\\left(1-\\frac{i \\Delta t}{2} \\mathcal{H}\\right)|\\phi(t)\\rangle\n",
    "\\end{equation}\n",
    "\n",
    "Farem el mateix però com un semipas enrere des de $t + \\Delta t$.\n",
    "\n",
    "\\begin{equation}\n",
    "\\left|\\phi\\left(t+\\frac{\\Delta t}{2}\\right)\\right\\rangle=\\left(1+\\frac{i \\Delta t}{2} \\mathcal{H}\\right)|\\phi(t+\\Delta t)\\rangle\n",
    "\\end{equation}\n",
    "\n",
    "Igualem les dues expressions i obtenim:\n",
    "\n",
    "\\begin{equation}\n",
    "\\left(1+i \\frac{\\Delta t}{2 \\hbar} \\hat{H}\\right) \\phi(t+\\Delta t)=\\left(1-i \\frac{\\Delta t}{2 \\hbar} \\hat{H}\\right) \\phi(t)\n",
    "\\end{equation}\n",
    "\n",
    "\\begin{equation}\n",
    "|\\phi(t+\\Delta t)\\rangle=\\left(1+i \\frac{\\Delta t}{2} \\mathcal{H}\\right)^{-1}\\left(1-i \\frac{\\Delta t}{2} \\mathcal{H}\\right)|\\phi(t)\\rangle\n",
    "\\end{equation}\n",
    "\n",
    "Per tant, el problema a resoldre serà:\n",
    "\n",
    "\\begin{equation}\n",
    "\\hat{A} \\vec{\\Psi}(x, t+\\Delta t)=\\vec{b}\n",
    "\\end{equation}\n",
    "\n",
    "On tots els $\\mathcal{H} = \\mathcal{H}(t)$. Considerarem $\\Gamma_1=10 /(t+1)$. \\\\\n",
    "\n",
    "El nostre estat inicial serà l'estat de mínima energia de l'Hamiltonià depenent del temps a l'instant inicial\n"
   ]
  },
  {
   "cell_type": "code",
   "execution_count": 8,
   "metadata": {},
   "outputs": [
    {
     "name": "stdout",
     "output_type": "stream",
     "text": [
      "[-40.37647869308939, -36.7747452812953, -33.77823410317737, -31.249538046960478, -29.08707804359509, -27.2195880991143, -25.59314944952767, -24.164359608732763, -22.898410257885924, -21.767736051141966, -20.751811792251218, -19.83521163768726, -19.00481518091015, -18.249194573320146, -17.55915415849928, -16.927529358297697, -16.34830064584163, -15.815659775067184, -15.323683283379815, -14.866983257964888, -14.441558410959175, -14.044727873973025, -13.674310331276, -13.328089870130015, -13.003903368211844, -12.699828114268833, -12.414143336320572, -12.145274605258894, -11.891881336258944, -11.65290285851679, -11.42739997234114, -11.214340334434036, -11.01257000922139, -10.820983034728693, -10.638691120012096, -10.465049135493462, -10.29957534615962, -10.141874484461166, -9.991595645395375, -9.848386784307923, -9.711834838948349, -9.581440592721124, -9.456671644528658, -9.33706564274698, -9.222303949035908, -9.112201076439616, -9.006627192454228, -8.905426700078197, -8.808381629822668, -8.715223214756524, -8.625665535274555, -8.539437630484867, -8.456306789589199, -8.37609368738279, -8.298676611053196, -8.22397929739089, -8.151943456087006, -8.082497979485472, -8.015540570941731, -7.9509393155772665, -7.888548568836419, -7.828226574769387, -7.769845837967568, -7.7132961230709025, -7.6584853780474935, -7.605342055599069, -7.55381664857901, -7.503877171377778, -7.455496237995434, -7.408634080180859, -7.363226615464427, -7.319186161463815, -7.276415157327112, -7.23482535813608, -7.194352017145212, -7.154956417611489, -7.116617658209535, -7.079320425123308, -7.043046030379694, -7.007769857687077, -6.973463284388597, -6.940095882246602, -6.90763527390497, -6.876045421594091, -6.845286238051035, -6.815316555917943, -6.786099584368584, -6.757607574810333, -6.7298225452007046, -6.702732492517097, -6.676325540189798, -6.6505856627028885, -6.625492247931195, -6.601022988334508, -6.577157497425043, -6.553878972840053, -6.531172943206066, -6.509024233374009, -6.487414323684779, -6.466320766040264, -6.445718853068506, -6.425584417949696, -6.4058962661704575, -6.386637339319693, -6.367794676298558, -6.349358836201073, -6.331323341889418, -6.313684132306852, -6.296438548445383, -6.2795834708633205, -6.263112856899871, -6.247015623947781, -6.231275023012306, -6.215870101492085, -6.2007788396293115, -6.185981678271409, -6.1714639838982475, -6.15721663231647, -6.143234935327588, -6.129516932309145, -6.116062137547292, -6.1028711741280794, -6.089945822285985, -6.0772885201217335, -6.064900663020525, -6.052779992199699, -6.040918311402504, -6.029301029339491, -6.017909310357571, -6.0067242763563105, -5.995731526841524, -5.984923960781055, -5.974301694070531, -5.963869310730821, -5.9536319392881385, -5.943592032334623, -5.933748115737586, -5.9240956094033415, -5.914628804610805, -5.905342731997323, -5.896234032462251, -5.887300694550414, -5.878541148481091, -5.869953384160645, -5.861534495737189, -5.853280623407537, -5.845186992556246, -5.837247808372538, -5.829456069134087, -5.82180365688147, -5.814282097021263, -5.80688406809262, -5.799605242674766, -5.792445653657348, -5.785409780767501, -5.778505012277627, -5.771738863790825, -5.765115963301824, -5.7586359960632265, -5.752293419220965, -5.746078978116895, -5.739982270484565, -5.733994206011771, -5.728108385893629, -5.722321062458828, -5.716630076753468, -5.711033617107098, -5.705529578335754, -5.700115806594129, -5.6947909051488494, -5.689554917065181, -5.684409293126176, -5.679356021255153, -5.674396337882861, -5.669529725057922, -5.664753749154916, -5.660064812619192, -5.655459365196055, -5.650934868601151, -5.646489970927306, -5.642123817878816, -5.637834925955133, -5.633620284847394, -5.62947522039894, -5.6253941321519845, -5.621371764526943, -5.617404421440284, -5.613490601685693, -5.6096308502461385, -5.605827000218001, -5.602081222953034, -5.598395305717416, -5.59477036805289, -5.59120694629946, -5.5877051809611995, -5.584264833473863, -5.580885027910489, -5.577563850322404, -5.574298097222825, -5.571083443080174, -5.567915096285254, -5.564788742305347, -5.561701388254779, -5.55865173965645, -5.555639960284085, -5.552666972885154, -5.549733680450448, -5.54684049780356, -5.5439873765285, -5.541174204391427, -5.538401241072749, -5.535669243435125, -5.53297913843231, -5.530331396211498, -5.527725463418616, -5.525159612080129, -5.522631341538479, -5.520138162033884, -5.517678363394692, -5.515251359350411, -5.512857408951568, -5.510496841944681, -5.5081691845243075, -5.505872655128466, -5.503604337373462, -5.501361017548267, -5.499140351812751, -5.496941856379763, -5.494767271467223, -5.492620107843043, -5.490504524785347, -5.488423959817776, -5.486380019959407, -5.484372022347312, -5.482397301897804, -5.48045210686518, -5.478532703545722, -5.476636281340719, -5.474761382790093, -5.472907805035647, -5.471076125431612, -5.469267111274023, -5.467481254638319, -5.465718562260814, -5.463978597296533, -5.4622606798028395, -5.460564133453651, -5.458888499851911, -5.457233686602507, -5.455600036576386, -5.45398829994498, -5.4523994831822975, -5.450834570785807, -5.449294172518998, -5.447778212799273, -5.446285801561151, -5.444815374612529, -5.443365076843908, -5.441933239379507, -5.4405187428331026, -5.439121105569467, -5.43774027215579, -5.43637623316042, -5.435028697630308, -5.433697011944883, -5.4323803853297346, -5.431078313079215, -5.429790972782241, -5.42851936707139, -5.427265099663993, -5.426029843336648, -5.424814705954719, -5.423619755370711, -5.422443902738001, -5.421285195887103, -5.420141405614244, -5.419010670419439, -5.417891948195215, -5.4167851123546304, -5.4156906855105715, -5.414609357704136, -5.413541520019767, -5.4124870208465925, -5.411445233441782, -5.41041536813879, -5.409396847507797, -5.408389544888124, -5.4073937724086445, -5.406410045518319, -5.405438769653488, -5.404480026898268, -5.4035335713811, -5.4025990138828135, -5.4016760635225785, -5.400764661894073, -5.399864910291285, -5.398976815468657, -5.3980999924818125, -5.397233500986575, -5.396375932925241, -5.395525746243322, -5.394681715983818, -5.3938433132584604, -5.393010852248563, -5.39218534738921, -5.391368145501191, -5.390560483621501, -5.389763137726428, -5.388976271786085, -5.388199503392299, -5.387432116853845, -5.386673312760338, -5.385922395608482, -5.38517885287335, -5.384442338859806, -5.383712614678327, -5.382989497075112, -5.382272840056356, -5.381562536543547, -5.380858507474709, -5.3801606558298305, -5.379468796476003, -5.378782606765549, -5.378101651714103, -5.377425508677704, -5.376753960031049, -5.376087168620435, -5.375425734149207, -5.374770567341427, -5.374122601128296, -5.373482445210782, -5.37285013464678, -5.372225094744281, -5.371606350325015, -5.370992890827485, -5.370384023152277, -5.369779545646523, -5.369179662889863, -5.368584691141383, -5.367994712849633, -5.367409368999434, -5.366827912623366, -5.36624951650681, -5.365673697058407, -5.365100649401697, -5.364531319487769, -5.363967153761212, -5.363409612381367, -5.362859641418134, -5.362317323491638, -5.361781854617883, -5.361251859242055, -5.360725914299663, -5.360203066764296, -5.359683133867548, -5.3591666687468145, -5.35865461684419, -5.358147819010757, -5.35764657964898, -5.357150485284815, -5.356658545649461, -5.3561695868984245, -5.355682719583501, -5.355197680154771, -5.354714912075194, -5.354235375639098, -5.3537601935962185, -5.353290297621719, -5.352826216450559, -5.352368060292131, -5.3519156571222855, -5.3514687350392265, -5.351027046468764, -5.35059038440628, -5.350158511845655, -5.349731073291892, -5.349307560047826, -5.348887363998166, -5.348469903067341, -5.348054764060299, -5.347641801901414, -5.347231156906736, -5.346823188512335, -5.346418356310433, -5.3460170947012955, -5.345619723119276, -5.345226414932879, -5.344837223879174, -5.3444521462823475, -5.3440711868449355, -5.343694398287975, -5.343321878938744, -5.342953731626604, -5.342590003602553, -5.342230633463561, -5.341875425054708, -5.341524054374039, -5.34117610209289, -5.340831098772502, -5.340488573605815, -5.3401481051395, -5.3398093758125285, -5.339472226826139, -5.339136699109499, -5.338803039353214, -5.338471656044534, -5.338143030036194, -5.337817607910399, -5.337495719246615, -5.3371775500499545, -5.3368631757004845, -5.336552622881825, -5.336245911526954, -5.335943038333295, -5.335643899913894, -5.33534819684743, -5.33505538416872, -5.33476472205127, -5.334475434671923, -5.334186927199695, -5.333898971038666, -5.3336117690881055, -5.333325858964514, -5.333041883317764, -5.332760319461963, -5.332481284863637, -5.332204507225527, -5.331929478494555, -5.33165573092469, -5.331383116143818, -5.331111960982614, -5.330843021351616, -5.3305772389007595, -5.330315389873721, -5.3300577652872745, -5.329804013965025, -5.329553216511169, -5.329304164607915, -5.329055735631655, -5.32880721425178, -5.328558437812474, -5.328309720335712, -5.328061606220269, -5.327814575673601, -5.327568837553168, -5.327324296384656, -5.327080693207207, -5.326837836763714, -5.326595801826834, -5.326354992565944, -5.326116038235663, -5.325879570621318, -5.325645987550331, -5.32541530957371, -5.325187189341904, -5.3249610608995805, -5.324736354600382, -5.324512680199185, -5.3242899033304045, -5.324068094774751, -5.3238473905220545, -5.323627837262278, -5.323409298497928, -5.323191463895734, -5.3229739555949065, -5.322756482202038, -5.322538972132439, -5.322321629531881, -5.322104891593723, -5.321889308982547, -5.321675401905891, -5.321463549656604, -5.321253949826874, -5.321046646486181, -5.320841593524329, -5.320638707063559, -5.3204378751563395, -5.320238925124004, -5.32004158000691, -5.319845447221219, -5.319650067209116, -5.319455015800727, -5.3192600205518525, -5.319065037980569, -5.3188702537221015, -5.318676003471524, -5.3184826499732765, -5.318290470525437, -5.318099601235561, -5.317910054342321, -5.317721789936816, -5.317534801068581, -5.317349170791301, -5.317165078270415, -5.3169827567868735, -5.316802426091086, -5.316624227431795, -5.316448182308267, -5.31627418223603, -5.316102004511314, -5.315931343114913, -5.315761845016377, -5.31559314726335, -5.315424915224055, -5.3152568839333325, -5.315088901500012, -5.314920967260168, -5.314753251268975, -5.314586080301264, -5.314419882194139, -5.314255094979249, -5.314092064723414, -5.313930967492656, -5.313771787982767, -5.313614367534724, -5.313458504003949, -5.3133040593532455, -5.313151022855404, -5.312999495671764, -5.312849600314008, -5.312701358299321, -5.3125546001366395, -5.312408960779697, -5.3122639740474344, -5.312119229979956, -5.31197452478139, -5.311829932289926, -5.31168576053848, -5.311542410680945, -5.31140020222125, -5.311259245224733, -5.311119418744616, -5.310980465208605, -5.310842156263699, -5.310704451660177, -5.310567574450606, -5.310431962047076, -5.310298107271893, -5.31016635261706, -5.310036723451891, -5.309908872313589, -5.309782162251526, -5.309655860698658, -5.309529369929677, -5.309402404892407, -5.309275050802095, -5.309147682632846, -5.309020785567533, -5.308894755094349, -5.308769760495078, -5.30864572392303, -5.308522413668615, -5.308399599272632, -5.308277191230125, -5.308155299970876, -5.308034190715173, -5.3079141615861225, -5.307795407295536, -5.307677933748683, -5.307561560286743, -5.307446001773709, -5.307330985034751, -5.3072163412335165, -5.30710203226337, -5.3069881050357255, -5.306874603917676, -5.306761490878262, -5.306648617032242, -5.306535762605041, -5.306422728567387, -5.306309438175316, -5.306196001204101, -5.306082709326946, -5.305969960328052, -5.305858138865799, -5.305747499745072, -5.305638098717485, -5.305529796231718, -5.305422329497456, -5.305315420352579, -5.305208872698364, -5.305102619782453, -5.304996705573825, -5.304891215043127, -5.304786191167636, -5.3046815811218, -5.304577238362466, -5.304472979104644, -5.30436866500713, -5.304264271717213, -5.304159910648593, -5.30405579431476, -5.30395216182314, -5.30384919808382, -5.303746980807602, -5.303645474850393, -5.303544572038788, -5.303444156323778, -5.3033441659662675, -5.3032446279982, -5.303145652207791, -5.3030473870065995, -5.3029499527842034, -5.302853376358441, -5.302757551047398, -5.302662240173433, -5.3025671284971745, -5.302471909430111, -5.3023763813234, -5.302280519731893, -5.302184498205785, -5.302088647095577, -5.301993362119891, -5.301898993148213, -5.301805750991768, -5.301713662961351, -5.301622589642856, -5.3015322933140165, -5.301442531106638, -5.301353139212106, -5.301264079541873, -5.301175434614646, -5.301087354901024, -5.300999979567299, -5.300913361320458, -5.300827425366542, -5.300741980667601, -5.300656781820547, -5.30057161886227, -5.300486398892641, -5.300401184572877, -5.30031617155098, -5.300231613390226, -5.300147726759752, -5.300064619489107, -5.29998227379329, -5.299900590608816, -5.299819471081432, -5.299738892708125, -5.299658940017375, -5.299579772083294, -5.299501540610345, -5.299424297299398, -5.299347935581012, -5.299272196737263, -5.299196741422392, -5.299121258387097, -5.299045566028276, -5.2989696659019065, -5.298893728191867, -5.29881801765167, -5.29874279240678, -5.298668217515913, -5.298594326971271, -5.298521045826517, -5.298448257841117, -5.298375884582477, -5.298303937721999, -5.298232519352788, -5.298161770044283, -5.2980917898996935, -5.298022572003542, -5.297953982947519, -5.29788580292915, -5.297817808364048, -5.2977498575836695, -5.297681936838538, -5.297614142280123, -5.29754660552616, -5.297479400047708, -5.297412477557013, -5.297345670850559, -5.297278767573254, -5.297211623514103, -5.297144262099701, -5.297076909944538, -5.297009945678431, -5.296943778142718, -5.296878702334451, -5.296814792373928, -5.296751875573119, -5.29668959756969, -5.296627550757194, -5.296565413142647, -5.296503042448121, -5.296440490849201, -5.2963779398100685, -5.296315587484681, -5.296253539535303, -5.296191750786667, -5.296130041800195, -5.296068181334214, -5.29600599692434, -5.295943463829185, -5.295880732571702, -5.295818082890967, -5.295755824775112, -5.295694190463011, -5.29563326424043, -5.295572978279525, -5.29551317161805, -5.2954536805555446, -5.295394415880873, -5.295335391094107, -5.295276691169811, -5.295218400551967, -5.295160527842974, -5.295102964688522, -5.295045498838318, -5.294987875738046, -5.294929881761408, -5.294871414558051, -5.29481251395682, -5.2947533451281, -5.294694145133539, -5.294635156278483, -5.294576570881801, -5.294518503506322, -5.294460993409539, -5.294404028032213, -5.29434757224549, -5.2942915893421265, -5.29423604679918, -5.294180908917779, -5.294126125256103, -5.294071625216368, -5.294017324708875, -5.293963142939537, -5.293909020433842, -5.293854927562917, -5.293800857616961, -5.293746807627305, -5.293692758531921, -5.293638668648008, -5.293584488549706, -5.293530193848974, -5.293475821201849, -5.293421488567712, -5.2933673863115445, -5.293313738736975, -5.2932607494451975, -5.2932085513743665, -5.293157179794599, -5.293106575649733, -5.29305661342492, -5.293007138880764, -5.292958001276165, -5.292909071179158, -5.292860244112919, -5.292811436921855, -5.292762584943491, -5.292713644381224, -5.29266459879037, -5.292615464799188, -5.292566291985748, -5.292517154829179, -5.292468138834941, -5.292419325998819, -5.292370785271913, -5.292322571465089, -5.292274732060566, -5.292227317327639, -5.292180386773174, -5.292134005682456, -5.292088229636517, -5.292043081156912, -5.291998528258851, -5.291954476449675, -5.291910781634286, -5.291867282368494, -5.291823839912642, -5.291780369002869, -5.291736845088812, -5.291693284739897, -5.29164971000686, -5.291606117206372, -5.291562469859102, -5.291518723544098, -5.291474872683656, -5.29143099497792, -5.291387266549428, -5.291343932367466, -5.291301237355581, -5.291259343723375, -5.291218269346824, -5.291177875344304, -5.291137910931038, -5.29109809918933, -5.291058229640239, -5.291018220384911, -5.290978125394649, -5.2909380855890005, -5.290898245745813, -5.290858673256791, -5.290819313637761, -5.290780002140499, -5.290740527246498, -5.2907007199105465, -5.290660531214858, -5.290620065413019, -5.290579553683385, -5.29053927878683, -5.290499481636663, -5.290460288295351, -5.290421686464892, -5.290383558098247, -5.290345749474711, -5.290308143749692, -5.2902707014136245, -5.290233451108051, -5.290196438553881, -5.290159662479635, -5.290123032944532, -5.290086376170277, -5.290049486650208, -5.290012203571215, -5.289974476163256, -5.289936387381051, -5.289898124667025, -5.289859910842321, -5.289821925822831, -5.289784252904374, -5.2897468710314275, -5.2897096930698115, -5.289672629686263, -5.2896356480110445, -5.289598797929351, -5.289562194384532, -5.289525964274215, -5.289490182479027, -5.289454826446617, -5.289419770548818, -5.289384823735801, -5.289349794573623, -5.289314555254963, -5.28927907647275, -5.289243418387879, -5.2892076834847455, -5.289171955354995, -5.289136254471488, -5.289100533932985, -5.289064718366283, -5.289028767047226, -5.288992728797187, -5.2889567583886885, -5.288921081515445, -5.288885919774907, -5.288851406869217, -5.288817532793043, -5.288784141412664, -5.288750983869302, -5.288717806282174, -5.288684436020873, -5.288650832272858, -5.288617082464777, -5.288583348904076, -5.288549789938708, -5.28851648901457, -5.288483420219584, -5.28845046291754, -5.28841745776251, -5.288384279907012, -5.288350898912727, -5.2883174009676726, -5.28828396485111, -5.288250802136616, -5.288218086504468, -5.288185900729545, -5.2881542214061765, -5.288122944594605, -5.288091937936181, -5.288061094349216, -5.288030363738897, -5.287999751176501, -5.287969286608305, -5.287938984257773, -5.28790881347198, -5.287878695762916, -5.2878485293098345, -5.287818229102329, -5.287787764270212, -5.287757176355462, -5.287726571364351, -5.287696089601759, -5.287665865566867, -5.287635992675787, -5.287606504248502, -5.287577375251969, -5.287548541742006, -5.287519929356891, -5.287491480058069, -5.287463167889626, -5.287434999124534, -5.2874069982307415, -5.287379186514688, -5.287351562995032, -5.287324095803523, -5.287296727591768, -5.287269392127927, -5.287242034438039, -5.287214625810615, -5.287187168158817, -5.287159687826771, -5.2871322238885785, -5.287104817734192, -5.287077508591489, -5.287050335140469, -5.287023339293073, -5.286996566851542, -5.286970061698261, -5.28694385409081, -5.286917947273332, -5.286892308131311, -5.286866866510432, -5.2868415249043945, -5.286816176869564, -5.286790729853734, -5.286765126625259, -5.286739359264915, -5.286713470861082, -5.2866875428401805, -5.286661670144106, -5.286635931232144, -5.2866103631967745, -5.286584952034672, -5.286559643342825, -5.2865343706222, -5.28650909026777, -5.28648380818848, -5.286458585406045, -5.286433518481999, -5.286408701657682, -5.286384186089395, -5.286359953441988, -5.2863359153495315, -5.286311939420545, -5.286287891419102, -5.28626367681199, -5.286239265628021, -5.286214691901884, -5.286190029550529, -5.286165355938784, -5.286140718955554, -5.286116121516121, -5.286091529886193, -5.286066902013584, -5.286042223121424, -5.286017531828504, -5.285992923020739, -5.285968522969911, -5.2859444443890045, -5.285920739113129, -5.285897369115917, -5.2858742104599274, -5.285851091436923, -5.285827851136682, -5.285804394885165, -5.2857807233547245, -5.285756923044222, -5.285733122581154, -5.285709434261017, -5.285685906459218, -5.285662507183934, -5.285639144724483, -5.285615714852954, -5.285592152892426, -5.285568467898158, -5.285544745089238, -5.285521116954858, -5.285497716556692, -5.285474632951217, -5.285451886214806, -5.285429430041626, -5.28540717784348, -5.285385038905005, -5.285362948156202, -5.285340877409202, -5.28531882533385, -5.285296793774993, -5.2852747646061715, -5.285252691069855, -5.285230510354326, -5.285208173145087, -5.2851856762763445, -5.285163081336185, -5.285140507320786, -5.285118097220152, -5.285095971271522, -5.285074187092527, -5.285052724878155, -5.285031504806064, -5.2850104288502395, -5.284989427625639, -5.284968490442564, -5.284947664731025, -5.28492702554744, -5.28490662996098, -5.284886478054286, -5.284866498982318, -5.2848465688600115]\n"
     ]
    },
    {
     "data": {
      "image/png": "[encoded data removed]",
      "text/plain": [
       "<matplotlib.figure.Figure at 0x187b0597470>"
      ]
     },
     "metadata": {
      "needs_background": "light"
     },
     "output_type": "display_data"
    },
    {
     "name": "stdout",
     "output_type": "stream",
     "text": [
      "Energia final: -5.2848465688600115\n",
      "Valor teòric: -5.274892802424301\n"
     ]
    }
   ],
   "source": [
    "#Crank-Nicolson per a la resolució de l'equació de Schrödinger en el temps\n",
    "\n",
    "psi = ground_state\n",
    "psi = psi/np.linalg.norm(psi) #Normalitzem\n",
    "\n",
    "#Definim el temps inicial i final\n",
    "t_inicial = 0\n",
    "t_final = 100\n",
    "dt = 0.1\n",
    "\n",
    "#Definim el temps\n",
    "temps = np.arange(t_inicial, t_final, dt)\n",
    "vect_energy = []\n",
    "\n",
    "\n",
    "productes_escalars = []\n",
    "\n",
    "for t in temps:\n",
    "    #Definim les matrius de propagació\n",
    "    U_mes = np.identity(2**N) + 1j*dt/2.*H(t)\n",
    "    U_menys = np.identity(2**N) - 1j*dt/2.*H(t)\n",
    "\n",
    "    #Fem un pas de temps dt\n",
    "    psi = np.linalg.solve(U_mes, np.dot(U_menys, psi))\n",
    "\n",
    "    #Calculem l'energia\n",
    "    energia = np.real(np.dot(np.conjugate(psi), np.dot(H(t), psi)))\n",
    "    vect_energy.append(energia)\n",
    "\n",
    "    #Calculem el producte escalar entre psi i el vector propi del ground state\n",
    "    producte_escalar = np.linalg.norm((np.dot(np.conjugate(psi), vec_minH0)))**2\n",
    "    productes_escalars.append(producte_escalar)\n",
    "\n",
    "print(vect_energy)\n",
    "\n",
    "#Grafiquem l'energia en funció del temps amb l'eix x en escala logarítmica\n",
    "fig = plt.figure()\n",
    "ax = fig.add_subplot(111)\n",
    "ax.set_xscale('log')\n",
    "plt.plot(temps, vect_energy)\n",
    "plt.yticks(np.arange(-40,0,5))\n",
    "plt.xlabel('Temps')\n",
    "plt.ylabel('Energia')\n",
    "plt.grid()\n",
    "plt.ylim = (-40,0)\n",
    "plt.show()\n",
    "\n",
    "#Mostrem el valor final de l'energia\n",
    "print(\"Energia final:\", vect_energy[-1])\n",
    "print(\"Valor teòric:\", E_min)"
   ]
  },
  {
   "attachments": {},
   "cell_type": "markdown",
   "metadata": {},
   "source": [
    "Veiem que l'energia avança cap al ground-state. \n",
    "\n",
    "Una altra forma de comprovar si estem realitzant un procés adiabàtic és amb el producte escalar entre el vector propi del groundstate i el nostre vector. Idelment hauria d'avançar cap a 1."
   ]
  },
  {
   "cell_type": "code",
   "execution_count": 9,
   "metadata": {},
   "outputs": [
    {
     "data": {
      "image/png": "[encoded data removed]",
      "text/plain": [
       "<matplotlib.figure.Figure at 0x187b0587fd0>"
      ]
     },
     "metadata": {
      "needs_background": "light"
     },
     "output_type": "display_data"
    }
   ],
   "source": [
    "#Grafiquem els productes escalars en funció del temps\n",
    "plt.plot(temps, productes_escalars)\n",
    "plt.xlabel('Temps')\n",
    "plt.ylabel('Producte escalar')\n",
    "plt.grid()\n",
    "plt.show()\n"
   ]
  },
  {
   "attachments": {},
   "cell_type": "markdown",
   "metadata": {},
   "source": [
    "## REFERÈNCIES\n",
    "\n",
    "Quantum Annealing in the transverse Ising Model, Óscar Promio MuÑnoz"
   ]
  }
 ],
 "metadata": {
  "kernelspec": {
   "display_name": "clavsqua_env",
   "language": "python",
   "name": "python3"
  },
  "language_info": {
   "codemirror_mode": {
    "name": "ipython",
    "version": 3
   },
   "file_extension": ".py",
   "mimetype": "text/x-python",
   "name": "python",
   "nbconvert_exporter": "python",
   "pygments_lexer": "ipython3",
   "version": "3.6.13"
  },
  "orig_nbformat": 4
 },
 "nbformat": 4,
 "nbformat_minor": 2
}
